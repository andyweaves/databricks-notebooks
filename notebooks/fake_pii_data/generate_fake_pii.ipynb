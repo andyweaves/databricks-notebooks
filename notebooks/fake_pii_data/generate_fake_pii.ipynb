{
 "cells": [
  {
   "cell_type": "code",
   "execution_count": 0,
   "metadata": {
    "application/vnd.databricks.v1+cell": {
     "cellMetadata": {
      "byteLimit": 2048000,
      "rowLimit": 10000
     },
     "inputWidgets": {},
     "nuid": "77ed4241-fe87-4301-878f-fa35a5656cf7",
     "showTitle": false,
     "tableResultSettingsMap": {},
     "title": ""
    }
   },
   "outputs": [],
   "source": [
    "%pip install -q faker mimesis"
   ]
  },
  {
   "cell_type": "code",
   "execution_count": 0,
   "metadata": {
    "application/vnd.databricks.v1+cell": {
     "cellMetadata": {
      "byteLimit": 2048000,
      "rowLimit": 10000
     },
     "inputWidgets": {},
     "nuid": "23f5bedf-45a6-4b88-938d-76a6de59893c",
     "showTitle": false,
     "tableResultSettingsMap": {},
     "title": ""
    }
   },
   "outputs": [],
   "source": [
    "dbutils.library.restartPython()"
   ]
  },
  {
   "cell_type": "code",
   "execution_count": 0,
   "metadata": {
    "application/vnd.databricks.v1+cell": {
     "cellMetadata": {
      "byteLimit": 2048000,
      "rowLimit": 10000
     },
     "inputWidgets": {},
     "nuid": "45b790c0-768b-4259-92dd-159b63080260",
     "showTitle": false,
     "tableResultSettingsMap": {},
     "title": ""
    }
   },
   "outputs": [],
   "source": [
    "from databricks.sdk import WorkspaceClient\n",
    "\n",
    "wsc = WorkspaceClient()\n",
    "\n",
    "dbutils.widgets.dropdown(\"num_rows\", defaultValue=\"1000\", choices=[\"1000\", \"10000\", \"100000\", \"1000000\"])\n",
    "catalogs = [x.full_name for x in list(wsc.catalogs.list())]\n",
    "dbutils.widgets.dropdown(\"catalog\", defaultValue=catalogs[0], choices=catalogs)\n",
    "schemas = [x.name for x in list(wsc.schemas.list(catalog_name=dbutils.widgets.get(\"catalog\")))]\n",
    "dbutils.widgets.dropdown(\"schema\", defaultValue=schemas[0], choices=schemas)\n",
    "num_rows = int(dbutils.widgets.get(\"num_rows\"))\n",
    "dbutils.widgets.text(\"table_name\", defaultValue=f\"fake_pii_data\")"
   ]
  },
  {
   "cell_type": "code",
   "execution_count": 0,
   "metadata": {
    "application/vnd.databricks.v1+cell": {
     "cellMetadata": {
      "byteLimit": 2048000,
      "rowLimit": 10000
     },
     "inputWidgets": {},
     "nuid": "6de9b61f-aa74-4eb5-b70b-e85032cc5c23",
     "showTitle": false,
     "tableResultSettingsMap": {},
     "title": ""
    }
   },
   "outputs": [],
   "source": [
    "from faker import Faker\n",
    "from mimesis import Generic\n",
    "from mimesis.locales import Locale\n",
    "import random\n",
    "from pyspark.sql.types import *\n",
    "import pandas as pd\n",
    "\n",
    "fake = Faker('en_US')\n",
    "\n",
    "schema = StructType([\n",
    "    StructField(\"name\", StringType(), False),\n",
    "    # StructField(\"date_of_birth\", StringType(), False),\n",
    "    StructField(\"email\", StringType(), False),\n",
    "    StructField(\"passport\", StringType(), False),\n",
    "    StructField(\"phone_number\", StringType(), False),\n",
    "    StructField(\"ipv4\", StringType(), False),\n",
    "    StructField(\"ipv6\", StringType(), False),\n",
    "    StructField(\"address\", StringType(), False),\n",
    "    StructField(\"location\", StringType(), False),\n",
    "    StructField(\"ssn\", StringType(), False),\n",
    "    StructField(\"itin\", StringType(), False),\n",
    "    StructField(\"bank_number\", StringType(), False),\n",
    "    StructField(\"iban\", StringType(), False),\n",
    "    StructField(\"credit_card_number\", StringType(), False)\n",
    "    ])\n",
    "\n",
    "def generate_data(pdf):\n",
    "\n",
    "    pdf[\"name\"] = fake.name()\n",
    "    # pdf[\"date_of_birth\"] = fake.date_of_birth()\n",
    "    pdf[\"email\"] = random.choice([fake.email(), fake.company_email(), fake.free_email()])\n",
    "    pdf[\"passport\"] = random.choice([fake.passport_number(), fake.passport_full()])\n",
    "    pdf[\"phone_number\"] = random.choice([fake.phone_number(), fake.basic_phone_number()])\n",
    "    pdf[\"ipv4\"] = random.choice([fake.ipv4(), fake.ipv4_private(), fake.ipv4_public()])\n",
    "    pdf[\"ipv6\"] = fake.ipv6()\n",
    "    pdf[\"address\"] = fake.address()\n",
    "    pdf[\"location\"] = random.choice([fake.city(), fake.country(), fake.state(), fake.street_address()])\n",
    "    pdf[\"ssn\"] = fake.ssn()\n",
    "    pdf[\"itin\"] = fake.itin()\n",
    "    pdf[\"bank_number\"] = fake.bban()\n",
    "    pdf[\"iban\"] = fake.iban()\n",
    "    pdf[\"credit_card_number\"] = fake.credit_card_number() #credit_card_full\n",
    "    #us_driver_license = Todo!\n",
    "    return pdf\n",
    "\n",
    "def generate_fake_data(pdf: pd.DataFrame) -> pd.DataFrame:\n",
    "\n",
    "    return pdf.apply(generate_data, axis=1).drop([\"id\", \"partition_id\"], axis=1)"
   ]
  },
  {
   "cell_type": "code",
   "execution_count": 0,
   "metadata": {
    "application/vnd.databricks.v1+cell": {
     "cellMetadata": {
      "byteLimit": 2048000,
      "rowLimit": 10000
     },
     "inputWidgets": {},
     "nuid": "0ed767db-e98d-4518-a975-d5eddab4488b",
     "showTitle": false,
     "tableResultSettingsMap": {
      "0": {
       "dataGridStateBlob": "{\"version\":1,\"tableState\":{\"columnPinning\":{\"left\":[\"#row_number#\"],\"right\":[]},\"columnSizing\":{},\"columnVisibility\":{}},\"settings\":{\"columns\":{}},\"syncTimestamp\":1757514058088}",
       "filterBlob": null,
       "queryPlanFiltersBlob": null,
       "tableResultIndex": 0
      }
     },
     "title": ""
    }
   },
   "outputs": [],
   "source": [
    "from pyspark.sql.functions import spark_partition_id\n",
    "\n",
    "df = (spark.range(0, num_rows).withColumn(\"partition_id\", spark_partition_id())\n",
    "      .groupBy(\"partition_id\")\n",
    "      .applyInPandas(generate_fake_data, schema))\n",
    "display(df)"
   ]
  },
  {
   "cell_type": "code",
   "execution_count": 0,
   "metadata": {
    "application/vnd.databricks.v1+cell": {
     "cellMetadata": {
      "byteLimit": 2048000,
      "rowLimit": 10000
     },
     "inputWidgets": {},
     "nuid": "e8dfba4d-1064-4bad-9b2f-b51b7df4f584",
     "showTitle": false,
     "tableResultSettingsMap": {},
     "title": ""
    }
   },
   "outputs": [],
   "source": [
    "df.write.mode(\"overwrite\").saveAsTable(f\"{dbutils.widgets.get('catalog')}.{dbutils.widgets.get('schema')}.{dbutils.widgets.get('table_name')}\")"
   ]
  }
 ],
 "metadata": {
  "application/vnd.databricks.v1+notebook": {
   "computePreferences": {
    "hardware": {
     "accelerator": null,
     "gpuPoolId": null,
     "memory": null
    }
   },
   "dashboards": [],
   "environmentMetadata": {
    "base_environment": "",
    "environment_version": "3"
   },
   "inputWidgetPreferences": null,
   "language": "python",
   "notebookMetadata": {
    "pythonIndentUnit": 4
   },
   "notebookName": "generate_fake_pii",
   "widgets": {
    "catalog": {
     "currentValue": "aweaver",
     "nuid": "2c8fc654-4789-45fd-a8b0-4ab7722c5de7",
     "typedWidgetInfo": {
      "autoCreated": false,
      "defaultValue": "aweaver",
      "label": null,
      "name": "catalog",
      "options": {
       "widgetDisplayType": "Dropdown",
       "choices": [
        "aweaver",
        "samples",
        "system"
       ],
       "fixedDomain": true,
       "multiselect": false
      },
      "parameterDataType": "String"
     },
     "widgetInfo": {
      "widgetType": "dropdown",
      "defaultValue": "aweaver",
      "label": null,
      "name": "catalog",
      "options": {
       "widgetType": "dropdown",
       "autoCreated": null,
       "choices": [
        "aweaver",
        "samples",
        "system"
       ]
      }
     }
    },
    "num_rows": {
     "currentValue": "1000",
     "nuid": "6b1793d5-a5e5-49b0-876a-f046d4db89a2",
     "typedWidgetInfo": {
      "autoCreated": false,
      "defaultValue": "1000",
      "label": null,
      "name": "num_rows",
      "options": {
       "widgetDisplayType": "Dropdown",
       "choices": [
        "1000",
        "10000",
        "100000",
        "1000000"
       ],
       "fixedDomain": true,
       "multiselect": false
      },
      "parameterDataType": "String"
     },
     "widgetInfo": {
      "widgetType": "dropdown",
      "defaultValue": "1000",
      "label": null,
      "name": "num_rows",
      "options": {
       "widgetType": "dropdown",
       "autoCreated": null,
       "choices": [
        "1000",
        "10000",
        "100000",
        "1000000"
       ]
      }
     }
    },
    "schema": {
     "currentValue": "default",
     "nuid": "f7e9c881-f1f3-4df2-a3c3-fd2812ea91c3",
     "typedWidgetInfo": {
      "autoCreated": false,
      "defaultValue": "_data_classification",
      "label": null,
      "name": "schema",
      "options": {
       "widgetDisplayType": "Dropdown",
       "choices": [
        "_data_classification",
        "default",
        "information_schema"
       ],
       "fixedDomain": true,
       "multiselect": false
      },
      "parameterDataType": "String"
     },
     "widgetInfo": {
      "widgetType": "dropdown",
      "defaultValue": "_data_classification",
      "label": null,
      "name": "schema",
      "options": {
       "widgetType": "dropdown",
       "autoCreated": null,
       "choices": [
        "_data_classification",
        "default",
        "information_schema"
       ]
      }
     }
    },
    "table_name": {
     "currentValue": "fake_pii_data",
     "nuid": "39c96241-b91b-4f21-9b57-ae744717df87",
     "typedWidgetInfo": {
      "autoCreated": false,
      "defaultValue": "fake_pii_data",
      "label": null,
      "name": "table_name",
      "options": {
       "widgetDisplayType": "Text",
       "validationRegex": null
      },
      "parameterDataType": "String"
     },
     "widgetInfo": {
      "widgetType": "text",
      "defaultValue": "fake_pii_data",
      "label": null,
      "name": "table_name",
      "options": {
       "widgetType": "text",
       "autoCreated": null,
       "validationRegex": null
      }
     }
    }
   }
  },
  "language_info": {
   "name": "python"
  }
 },
 "nbformat": 4,
 "nbformat_minor": 0
}
