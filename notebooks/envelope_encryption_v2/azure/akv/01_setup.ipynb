{
 "cells": [
  {
   "cell_type": "code",
   "execution_count": 0,
   "metadata": {
    "application/vnd.databricks.v1+cell": {
     "cellMetadata": {
      "byteLimit": 2048000,
      "rowLimit": 10000
     },
     "inputWidgets": {},
     "nuid": "a1c7ea78-4e03-4b6b-9ab4-d1c9b1e93559",
     "showTitle": false,
     "tableResultSettingsMap": {},
     "title": ""
    }
   },
   "outputs": [],
   "source": [
    "%pip install azure-keyvault pycryptodome -q"
   ]
  },
  {
   "cell_type": "code",
   "execution_count": 0,
   "metadata": {
    "application/vnd.databricks.v1+cell": {
     "cellMetadata": {
      "byteLimit": 2048000,
      "rowLimit": 10000
     },
     "inputWidgets": {},
     "nuid": "a06692d3-1f2d-4ea6-8e01-49e61a3079a7",
     "showTitle": false,
     "tableResultSettingsMap": {},
     "title": ""
    }
   },
   "outputs": [],
   "source": [
    "dbutils.library.restartPython()"
   ]
  },
  {
   "cell_type": "code",
   "execution_count": 0,
   "metadata": {
    "application/vnd.databricks.v1+cell": {
     "cellMetadata": {
      "byteLimit": 2048000,
      "rowLimit": 10000
     },
     "inputWidgets": {},
     "nuid": "373e2bae-dc13-45f0-a863-a2e6d3239b1b",
     "showTitle": false,
     "tableResultSettingsMap": {},
     "title": ""
    }
   },
   "outputs": [],
   "source": [
    "dbutils.widgets.text(\"uc_service_credential\", defaultValue=\"production-akv\")\n",
    "dbutils.widgets.text(\"metastore_id\", defaultValue=sql(\"SELECT element_at(split(current_metastore(), ':'), -1) AS metastore\").first().metastore)\n",
    "\n",
    "service_credential = dbutils.widgets.get(\"uc_service_credential\")\n",
    "metastore_id = dbutils.widgets.get(\"metastore_id\")"
   ]
  },
  {
   "cell_type": "code",
   "execution_count": 0,
   "metadata": {
    "application/vnd.databricks.v1+cell": {
     "cellMetadata": {
      "byteLimit": 2048000,
      "rowLimit": 10000
     },
     "inputWidgets": {},
     "nuid": "9480c547-f5eb-4159-b51e-28abddf8fd4f",
     "showTitle": false,
     "tableResultSettingsMap": {},
     "title": ""
    }
   },
   "outputs": [],
   "source": [
    "from azure.keyvault.keys import KeyClient, KeyType\n",
    "\n",
    "credential = dbutils.credentials.getServiceCredentialsProvider(service_credential)\n",
    "akv_url = \"https://aweaver-west-europe.vault.azure.net/\"\n",
    "client = KeyClient(vault_url=akv_url, credential=credential)\n",
    "keys = client.list_properties_of_keys()\n",
    "\n",
    "key = client.create_key(name=\"aweaver-test-aes\", key_type=KeyType.oct_hsm)\n",
    "\n",
    "print(key.id)\n",
    "print(key.name)\n",
    "print(key.key_type)\n",
    "\n",
    "#rsa_key = client.create_rsa_key(\"aweaver-test-cmk\", size=2048)\n",
    "# print(rsa_key.name)\n",
    "# print(rsa_key.key_type)"
   ]
  },
  {
   "cell_type": "code",
   "execution_count": 0,
   "metadata": {
    "application/vnd.databricks.v1+cell": {
     "cellMetadata": {
      "byteLimit": 2048000,
      "rowLimit": 10000
     },
     "inputWidgets": {},
     "nuid": "62ee8467-f7c5-49f8-82e9-f38168353785",
     "showTitle": false,
     "tableResultSettingsMap": {},
     "title": ""
    }
   },
   "outputs": [],
   "source": [
    "key = client.create_oct_key(\"aweaver-aes\", size=256, hardware_protected=True)\n",
    "\n",
    "print(key.id)\n",
    "print(key.name)\n",
    "print(key.key_type)"
   ]
  },
  {
   "cell_type": "code",
   "execution_count": 0,
   "metadata": {
    "application/vnd.databricks.v1+cell": {
     "cellMetadata": {
      "byteLimit": 2048000,
      "rowLimit": 10000
     },
     "inputWidgets": {},
     "nuid": "7ba254b4-904c-46a1-baef-065531e5f5d8",
     "showTitle": false,
     "tableResultSettingsMap": {},
     "title": ""
    }
   },
   "outputs": [],
   "source": [
    "from Crypto.Random import get_random_bytes  \n",
    "\n",
    "key_bytes = get_random_bytes(32)\n",
    "key_bytes"
   ]
  },
  {
   "cell_type": "code",
   "execution_count": 0,
   "metadata": {
    "application/vnd.databricks.v1+cell": {
     "cellMetadata": {},
     "inputWidgets": {},
     "nuid": "376c45be-e1bd-4489-88fc-02bac4d43a0d",
     "showTitle": false,
     "tableResultSettingsMap": {},
     "title": ""
    }
   },
   "outputs": [],
   "source": [
    "#aes_256= 'A256KW'"
   ]
  },
  {
   "cell_type": "code",
   "execution_count": 0,
   "metadata": {
    "application/vnd.databricks.v1+cell": {
     "cellMetadata": {
      "byteLimit": 2048000,
      "rowLimit": 10000
     },
     "inputWidgets": {},
     "nuid": "73a28409-67b0-4412-a6fd-b6df692b84ee",
     "showTitle": false,
     "tableResultSettingsMap": {},
     "title": ""
    }
   },
   "outputs": [],
   "source": [
    "from azure.keyvault.keys.crypto import CryptographyClient\n",
    "from azure.keyvault.keys.crypto import KeyWrapAlgorithm\n",
    "\n",
    "crypto_client = CryptographyClient(key=client.get_key(\"aweaver-ec\"), credential=credential)\n",
    "\n",
    "# # the result holds the encrypted key and identifies the encryption key and algorithm used\n",
    "result = crypto_client.wrap_key(KeyWrapAlgorithm.aes_256, key_bytes)\n",
    "encrypted_key = result.encrypted_key\n",
    "print(result.key_id)\n",
    "print(result.algorithm)"
   ]
  }
 ],
 "metadata": {
  "application/vnd.databricks.v1+notebook": {
   "computePreferences": null,
   "dashboards": [],
   "environmentMetadata": {
    "base_environment": "",
    "environment_version": "2"
   },
   "inputWidgetPreferences": null,
   "language": "python",
   "notebookMetadata": {
    "pythonIndentUnit": 4
   },
   "notebookName": "01_setup",
   "widgets": {
    "metastore_id": {
     "currentValue": "5b2a9ab9-8cea-4262-abdb-7e81e565a1f6",
     "nuid": "7c97c450-c5e4-4570-a542-d2b6b538d3dd",
     "typedWidgetInfo": {
      "autoCreated": false,
      "defaultValue": "5b2a9ab9-8cea-4262-abdb-7e81e565a1f6",
      "label": null,
      "name": "metastore_id",
      "options": {
       "widgetDisplayType": "Text",
       "validationRegex": null
      },
      "parameterDataType": "String"
     },
     "widgetInfo": {
      "widgetType": "text",
      "defaultValue": "5b2a9ab9-8cea-4262-abdb-7e81e565a1f6",
      "label": null,
      "name": "metastore_id",
      "options": {
       "widgetType": "text",
       "autoCreated": null,
       "validationRegex": null
      }
     }
    },
    "uc_service_credential": {
     "currentValue": "production-akv",
     "nuid": "5ff25610-c1f9-495f-a17d-7f4ce0de3578",
     "typedWidgetInfo": {
      "autoCreated": false,
      "defaultValue": "production-akv",
      "label": null,
      "name": "uc_service_credential",
      "options": {
       "widgetDisplayType": "Text",
       "validationRegex": null
      },
      "parameterDataType": "String"
     },
     "widgetInfo": {
      "widgetType": "text",
      "defaultValue": "production-akv",
      "label": null,
      "name": "uc_service_credential",
      "options": {
       "widgetType": "text",
       "autoCreated": null,
       "validationRegex": null
      }
     }
    }
   }
  },
  "language_info": {
   "name": "python"
  }
 },
 "nbformat": 4,
 "nbformat_minor": 0
}
