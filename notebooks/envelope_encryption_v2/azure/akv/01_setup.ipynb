{
 "cells": [
  {
   "cell_type": "code",
   "execution_count": 0,
   "metadata": {
    "application/vnd.databricks.v1+cell": {
     "cellMetadata": {
      "byteLimit": 2048000,
      "rowLimit": 10000
     },
     "inputWidgets": {},
     "nuid": "64db560f-8eb6-4fcd-891f-b65e8fc1c215",
     "showTitle": false,
     "tableResultSettingsMap": {},
     "title": ""
    }
   },
   "outputs": [],
   "source": [
    "%pip install -r ../../requirements.txt -q"
   ]
  },
  {
   "cell_type": "code",
   "execution_count": 0,
   "metadata": {
    "application/vnd.databricks.v1+cell": {
     "cellMetadata": {
      "byteLimit": 2048000,
      "rowLimit": 10000
     },
     "inputWidgets": {},
     "nuid": "a06692d3-1f2d-4ea6-8e01-49e61a3079a7",
     "showTitle": false,
     "tableResultSettingsMap": {},
     "title": ""
    }
   },
   "outputs": [],
   "source": [
    "dbutils.library.restartPython()"
   ]
  },
  {
   "cell_type": "code",
   "execution_count": 0,
   "metadata": {
    "application/vnd.databricks.v1+cell": {
     "cellMetadata": {
      "byteLimit": 2048000,
      "rowLimit": 10000
     },
     "inputWidgets": {},
     "nuid": "373e2bae-dc13-45f0-a863-a2e6d3239b1b",
     "showTitle": false,
     "tableResultSettingsMap": {},
     "title": ""
    }
   },
   "outputs": [],
   "source": [
    "dbutils.widgets.dropdown(\"azure_key_creation\", defaultValue=\"True\", choices=[\"True\", \"False\"])\n",
    "dbutils.widgets.text(\"uc_service_credential\", defaultValue=\"production-akv\")\n",
    "dbutils.widgets.text(\"key_vault_url\", defaultValue=\"\")\n",
    "dbutils.widgets.text(\"metastore_id\", defaultValue=sql(\"SELECT element_at(split(current_metastore(), ':'), -1) AS metastore\").first().metastore)\n",
    "dbutils.widgets.text(\"catalog\", defaultValue=\"production\")\n",
    "dbutils.widgets.text(\"schema\", defaultValue=\"finance\")\n",
    "\n",
    "service_credential = dbutils.widgets.get(\"uc_service_credential\")\n",
    "metastore_id = dbutils.widgets.get(\"metastore_id\")\n",
    "key_vault_url = dbutils.widgets.get(\"key_vault_url\")\n",
    "catalog = dbutils.widgets.get(\"catalog\")\n",
    "schema = dbutils.widgets.get(\"schema\")"
   ]
  },
  {
   "cell_type": "markdown",
   "metadata": {
    "application/vnd.databricks.v1+cell": {
     "cellMetadata": {
      "byteLimit": 2048000,
      "rowLimit": 10000
     },
     "inputWidgets": {},
     "nuid": "52e6ee95-093f-443c-a9fc-7a31e9d050f9",
     "showTitle": false,
     "tableResultSettingsMap": {},
     "title": ""
    }
   },
   "source": [
    "## Step 1\n",
    "* Download the titanic dataset and store it in a UC volume for raw files. \n",
    "* We'll use this to simulate a dataset that contains PII (Name, Age, Sex)"
   ]
  },
  {
   "cell_type": "code",
   "execution_count": 0,
   "metadata": {
    "application/vnd.databricks.v1+cell": {
     "cellMetadata": {
      "byteLimit": 2048000,
      "implicitDf": true,
      "rowLimit": 10000
     },
     "inputWidgets": {},
     "nuid": "fc44c94f-c897-46ae-a9f2-4ec4ea02bbab",
     "showTitle": false,
     "tableResultSettingsMap": {},
     "title": ""
    }
   },
   "outputs": [],
   "source": [
    "%sql\n",
    "USE CATALOG IDENTIFIER(:catalog);\n",
    "CREATE SCHEMA IF NOT EXISTS IDENTIFIER(concat(:catalog, '.', :schema));\n",
    "CREATE VOLUME IF NOT EXISTS IDENTIFIER(concat(:catalog, '.', :schema, '.raw_files'));"
   ]
  },
  {
   "cell_type": "code",
   "execution_count": 0,
   "metadata": {
    "application/vnd.databricks.v1+cell": {
     "cellMetadata": {
      "byteLimit": 2048000,
      "rowLimit": 10000
     },
     "inputWidgets": {},
     "nuid": "aac25cb1-a34d-4e72-93fe-92c2ad4b02ac",
     "showTitle": false,
     "tableResultSettingsMap": {},
     "title": ""
    }
   },
   "outputs": [],
   "source": [
    "import subprocess\n",
    "\n",
    "file_url = \"https://raw.githubusercontent.com/datasciencedojo/datasets/master/titanic.csv\"\n",
    "volume_path = f\"/Volumes/{catalog}/{schema}/raw_files/titanic.csv\"\n",
    "\n",
    "subprocess.run([\"wget\", file_url, \"-O\", volume_path], check=True)\n",
    "display(dbutils.fs.ls(f\"/Volumes/{catalog}/{schema}/raw_files/\"))"
   ]
  },
  {
   "cell_type": "markdown",
   "metadata": {
    "application/vnd.databricks.v1+cell": {
     "cellMetadata": {
      "byteLimit": 2048000,
      "rowLimit": 10000
     },
     "inputWidgets": {},
     "nuid": "fa295886-440c-4651-8e00-c60107c6deeb",
     "showTitle": false,
     "tableResultSettingsMap": {},
     "title": ""
    }
   },
   "source": [
    "## Step 2"
   ]
  },
  {
   "cell_type": "code",
   "execution_count": 0,
   "metadata": {
    "application/vnd.databricks.v1+cell": {
     "cellMetadata": {
      "byteLimit": 2048000,
      "rowLimit": 10000
     },
     "inputWidgets": {},
     "nuid": "9480c547-f5eb-4159-b51e-28abddf8fd4f",
     "showTitle": false,
     "tableResultSettingsMap": {},
     "title": ""
    }
   },
   "outputs": [],
   "source": [
    "from azure.keyvault.keys import KeyClient, KeyType\n",
    "\n",
    "credential = dbutils.credentials.getServiceCredentialsProvider(service_credential)\n",
    "client = KeyClient(vault_url=key_vault_url, credential=credential)\n",
    "kek_name = f\"unity-catalog-{metastore_id}-{catalog.replace('_', '-')}-kek\"\n",
    "\n",
    "if eval(dbutils.widgets.get(\"azure_key_creation\")):\n",
    "\n",
    "    key = client.create_key(name=kek_name, key_type=KeyType.rsa) \n",
    "    print(f\"Created kek '{key.name}': {key.id}\")"
   ]
  },
  {
   "cell_type": "code",
   "execution_count": 0,
   "metadata": {
    "application/vnd.databricks.v1+cell": {
     "cellMetadata": {
      "byteLimit": 2048000,
      "rowLimit": 10000
     },
     "inputWidgets": {},
     "nuid": "819db0b9-614d-44a3-babe-aefb446a6337",
     "showTitle": false,
     "tableResultSettingsMap": {},
     "title": ""
    }
   },
   "outputs": [],
   "source": [
    "import secrets\n",
    "\n",
    "dek = secrets.token_bytes(32)\n",
    "dek"
   ]
  },
  {
   "cell_type": "code",
   "execution_count": 0,
   "metadata": {
    "application/vnd.databricks.v1+cell": {
     "cellMetadata": {
      "byteLimit": 2048000,
      "rowLimit": 10000
     },
     "inputWidgets": {},
     "nuid": "73a28409-67b0-4412-a6fd-b6df692b84ee",
     "showTitle": false,
     "tableResultSettingsMap": {},
     "title": ""
    }
   },
   "outputs": [],
   "source": [
    "from azure.keyvault.keys.crypto import EncryptionAlgorithm\n",
    "\n",
    "crypto_client = client.get_cryptography_client(key_name=kek_name)\n",
    "\n",
    "encrypted_dek = crypto_client.wrap_key(EncryptionAlgorithm.rsa_oaep_256, dek).encrypted_key\n",
    "encrypted_dek"
   ]
  },
  {
   "cell_type": "code",
   "execution_count": 0,
   "metadata": {
    "application/vnd.databricks.v1+cell": {
     "cellMetadata": {
      "byteLimit": 2048000,
      "rowLimit": 10000
     },
     "inputWidgets": {},
     "nuid": "bd08ac33-298f-4df5-b2df-651b3067eac9",
     "showTitle": false,
     "tableResultSettingsMap": {},
     "title": ""
    }
   },
   "outputs": [],
   "source": [
    "unwrapped_dek = crypto_client.unwrap_key(EncryptionAlgorithm.rsa_oaep_256, encrypted_dek).key\n",
    "unwrapped_dek"
   ]
  },
  {
   "cell_type": "markdown",
   "metadata": {
    "application/vnd.databricks.v1+cell": {
     "cellMetadata": {
      "byteLimit": 2048000,
      "rowLimit": 10000
     },
     "inputWidgets": {},
     "nuid": "8798052a-de19-4a5d-a17f-9ad59d37de5f",
     "showTitle": false,
     "tableResultSettingsMap": {},
     "title": ""
    }
   },
   "source": [
    "## Step 3\n",
    "* Create a `crypto.keyvault` table to store our encrypted DEKs\n",
    "* Generate an encrypted DEK for our schema\n",
    "* Store the encrypted DEK in the `crypto.keyvault` table"
   ]
  },
  {
   "cell_type": "code",
   "execution_count": 0,
   "metadata": {
    "application/vnd.databricks.v1+cell": {
     "cellMetadata": {
      "byteLimit": 2048000,
      "implicitDf": true,
      "rowLimit": 10000
     },
     "inputWidgets": {},
     "nuid": "0b7cf21c-c108-461f-a261-77e97f02505a",
     "showTitle": false,
     "tableResultSettingsMap": {},
     "title": ""
    }
   },
   "outputs": [],
   "source": [
    "%sql\n",
    "CREATE SCHEMA IF NOT EXISTS IDENTIFIER(concat(:catalog, '.crypto'));\n",
    "CREATE TABLE IF NOT EXISTS IDENTIFIER(:catalog || '.crypto.keyvault') (\n",
    "  id BIGINT GENERATED BY DEFAULT AS IDENTITY,\n",
    "  created_date DATE, \n",
    "  created_time TIMESTAMP,\n",
    "  last_modified_time TIMESTAMP,\n",
    "  created_by STRING,\n",
    "  managed_by STRING,\n",
    "  key_name STRING,\n",
    "  key_enabled BOOLEAN,\n",
    "  key_version INT,\n",
    "  key_type STRING,\n",
    "  key BINARY,\n",
    "  CONSTRAINT pk_key_name_and_version\n",
    "        PRIMARY KEY (key_name, key_version))\n",
    "  TBLPROPERTIES (\n",
    "  'delta.appendOnly' = 'true', -- we only INSERT new versions\n",
    "  'delta.autoOptimize.optimizeWrite' = 'true',\n",
    "  'delta.autoOptimize.autoCompact'  = 'true'\n",
    ");"
   ]
  },
  {
   "cell_type": "code",
   "execution_count": 0,
   "metadata": {
    "application/vnd.databricks.v1+cell": {
     "cellMetadata": {
      "byteLimit": 2048000,
      "rowLimit": 10000
     },
     "inputWidgets": {},
     "nuid": "615b06db-ea81-4866-9311-164d9fb4f966",
     "showTitle": false,
     "tableResultSettingsMap": {},
     "title": ""
    }
   },
   "outputs": [],
   "source": [
    "from databricks.sdk import WorkspaceClient\n",
    "from pyspark.sql.types import StructType, StructField, IntegerType, DateType, TimestampType, StringType, BooleanType, BinaryType\n",
    "from datetime import datetime\n",
    "from datetime import date\n",
    "\n",
    "ws = WorkspaceClient()\n",
    "\n",
    "key_version = sql(f\"SELECT MAX(key_version) AS max_version FROM crypto.keyvault WHERE key_name = concat('{catalog}', '.', '{schema}')\").first().max_version\n",
    "\n",
    "if not key_version:\n",
    "  key_version = 1\n",
    "else:\n",
    "  key_version += 1\n",
    "\n",
    "keyvault_schema = StructType([\n",
    "    StructField(\"created_date\", DateType(), False),\n",
    "    StructField(\"created_time\", TimestampType(), False),\n",
    "    StructField(\"last_modified_time\", TimestampType(), False),\n",
    "    StructField(\"created_by\", StringType(), False),\n",
    "    StructField(\"managed_by\", StringType(), False),\n",
    "    StructField(\"key_name\", StringType(), False),\n",
    "    StructField(\"key_enabled\", BooleanType(), False),\n",
    "    StructField(\"key_version\", IntegerType(), True),\n",
    "    StructField(\"key_type\", StringType(), False),\n",
    "    StructField(\"key\", BinaryType(), False)\n",
    "])\n",
    "\n",
    "keyvault_data = [{\"created_date\": date.today(), \"created_time\": datetime.now(), \"last_modified_time\": datetime.now(), \"created_by\": ws.current_user.me().user_name, \"managed_by\": ws.current_user.me().user_name, \"key_enabled\": True, \"key_version\": key_version, \"key_type\": \"ENCRYPTED_DEK\", \"key_name\": f\"{catalog}.{schema}\", \"key\": encrypted_dek}]\n",
    "\n",
    "spark.createDataFrame(keyvault_data, keyvault_schema).createOrReplaceTempView(\"tmp_keyvault\")"
   ]
  },
  {
   "cell_type": "code",
   "execution_count": 0,
   "metadata": {
    "application/vnd.databricks.v1+cell": {
     "cellMetadata": {
      "byteLimit": 2048000,
      "implicitDf": true,
      "rowLimit": 10000
     },
     "inputWidgets": {},
     "nuid": "b2657e38-f453-4e5a-b02d-0c983b1c8073",
     "showTitle": false,
     "tableResultSettingsMap": {},
     "title": ""
    }
   },
   "outputs": [],
   "source": [
    "%sql\n",
    "INSERT INTO crypto.keyvault (created_date, created_time, last_modified_time, created_by, managed_by, key_name, key_enabled, key_version, key_type, key)\n",
    "SELECT * FROM tmp_keyvault"
   ]
  },
  {
   "cell_type": "code",
   "execution_count": 0,
   "metadata": {
    "application/vnd.databricks.v1+cell": {
     "cellMetadata": {
      "byteLimit": 2048000,
      "implicitDf": true,
      "rowLimit": 10000
     },
     "inputWidgets": {},
     "nuid": "4f8a4bc2-7e4f-41f7-af62-50987c9d158f",
     "showTitle": false,
     "tableResultSettingsMap": {},
     "title": ""
    }
   },
   "outputs": [],
   "source": [
    "%sql\n",
    "SELECT * \n",
    "FROM crypto.keyvault \n",
    "WHERE key_name = concat(:catalog, '.', :schema) \n",
    "AND key_enabled = true\n",
    "ORDER BY key_version DESC "
   ]
  },
  {
   "cell_type": "markdown",
   "metadata": {
    "application/vnd.databricks.v1+cell": {
     "cellMetadata": {
      "byteLimit": 2048000,
      "rowLimit": 10000
     },
     "inputWidgets": {},
     "nuid": "f5c3f08d-becc-4a10-8c43-812631ec91c4",
     "showTitle": false,
     "tableResultSettingsMap": {},
     "title": ""
    }
   },
   "source": [
    "## Step 4\n",
    "* Create an `unwrap_akv_key()` function that can be used to return a decrypted DEK \n",
    "* Test our `unwrap_akv_key()` function by encrypting/decrypting some data"
   ]
  },
  {
   "cell_type": "code",
   "execution_count": 0,
   "metadata": {
    "application/vnd.databricks.v1+cell": {
     "cellMetadata": {
      "byteLimit": 2048000,
      "implicitDf": true,
      "rowLimit": 10000
     },
     "inputWidgets": {},
     "nuid": "64dde42b-844a-4957-8dbd-13b56bae094a",
     "showTitle": false,
     "tableResultSettingsMap": {},
     "title": ""
    }
   },
   "outputs": [],
   "source": [
    "%sql\n",
    "USE SCHEMA crypto;\n",
    "-- IMPORTANT!!! \n",
    "---> BEFORE RUNNING THIS STEP PLEASE UPDATE THE CREDENTIALS() SECTION TO REFERENCE YOUR uc_service_credential\n",
    "CREATE OR REPLACE FUNCTION crypto.unwrap_akv_key(key_vault_url STRING, key_name STRING, encrypted_dek BINARY)\n",
    "RETURNS BINARY\n",
    "LANGUAGE PYTHON\n",
    "PARAMETER STYLE PANDAS\n",
    "HANDLER 'batchhandler'\n",
    "CREDENTIALS (\n",
    "    -- IMPORTANT! REPLACE THIS WITH YOUR UC SERVICE CREDENTIAL!!!\n",
    "    `production-akv` DEFAULT)\n",
    "ENVIRONMENT (\n",
    "  dependencies = '[\"azure-keyvault-keys==4.11.0\", \"azure-identity==1.23.1\"]', environment_version = 'None')\n",
    "AS $$\n",
    "import hashlib\n",
    "from functools import lru_cache\n",
    "from azure.identity import DefaultAzureCredential\n",
    "from azure.keyvault.keys.crypto import CryptographyClient, EncryptionAlgorithm\n",
    "from typing import Iterator, Tuple\n",
    "import pandas as pd\n",
    "\n",
    "_cred = DefaultAzureCredential()\n",
    "\n",
    "# In-memory blob cache per executor (to avoid storing large encrypted blobs multiple times)\n",
    "_blob_cache = {}\n",
    "\n",
    "@lru_cache(maxsize=128)\n",
    "def _get_client(key_uri: str) -> CryptographyClient:\n",
    "    \"\"\"\n",
    "    Returns a cached CryptographyClient for the given Azure Key Vault key URI.\n",
    "\n",
    "    Args:\n",
    "        key_uri (str): Full Azure Key Vault key ID (e.g., https://vault/keys/my-key/version).\n",
    "\n",
    "    Returns:\n",
    "        CryptographyClient: A client capable of wrap/unwrap operations.\n",
    "    \"\"\"\n",
    "    return CryptographyClient(key_uri, credential=_cred)\n",
    "\n",
    "@lru_cache(maxsize=2048)\n",
    "def _unwrap(key_uri: str, blob_hash: bytes) -> bytes:\n",
    "    \"\"\"\n",
    "    Internal cached unwrap using a blob hash to deduplicate wrapped DEK calls.\n",
    "\n",
    "    Args:\n",
    "        key_uri (str): Full URI of the KEK in Azure Key Vault.\n",
    "        blob_hash (bytes): SHA-256 digest of the wrapped DEK.\n",
    "\n",
    "    Returns:\n",
    "        bytes: Unwrapped 32-byte DEK.\n",
    "    \"\"\"\n",
    "    return _get_client(key_uri).unwrap_key(EncryptionAlgorithm.rsa_oaep_256, _blob_cache[blob_hash]).key\n",
    "\n",
    "def batchhandler(batch_iter: Iterator[Tuple[pd.Series, pd.Series]]) -> Iterator[pd.DataFrame]:\n",
    "\n",
    "    \"\"\"\n",
    "    Securely unwraps a DEK using Azure Key Vault and executor-local cache.\n",
    "\n",
    "    Args:\n",
    "        key_vault_url (str): Base URI of the Key Vault (e.g., https://myvault-kv.vault.azure.net).\n",
    "        key_name (str): Name of the RSA KEK in Key Vault.\n",
    "        encrypted_dek (bytes): RSA-wrapped DEK to be unwrapped.\n",
    "\n",
    "    Returns:\n",
    "        bytes: Unwrapped 32-byte DEK.\n",
    "    \"\"\"\n",
    "\n",
    "    for url, name, dek in batch_iter:\n",
    "\n",
    "        key_vault_url = url[0]\n",
    "        key_name = name[0]\n",
    "        encrypted_dek = dek[0]\n",
    "\n",
    "        try:\n",
    "            h = hashlib.sha256(encrypted_dek).digest()\n",
    "            _blob_cache.setdefault(h, encrypted_dek)\n",
    "            key_uri = f\"{key_vault_url.rstrip('/')}/keys/{key_name}\"\n",
    "            unwrapped = _unwrap(key_uri, h)\n",
    "\n",
    "        except Exception as e:\n",
    "            e.add_note(\"\"\"\n",
    "              ___ _ __ _ __ ___  _ __ \n",
    "             / _ \\ '__| '__/ _ \\| '__|\n",
    "            |  __/ |  | | | (_) | |   \n",
    "             \\___|_|  |_|  \\___/|_|\n",
    "            \n",
    "            Failed to unwrap key! Please check:\n",
    "\n",
    "            1. The user is a member of the <catalog>.<schema>.crypto.user account group\n",
    "            2. The UC service credential has the right permissions to use the AKV key\n",
    "            3. That the network you're connecting from is allowed to access the AKV\n",
    "            \"\"\")\n",
    "            raise e\n",
    "\n",
    "        yield pd.Series(unwrapped)\n",
    "$$;"
   ]
  },
  {
   "cell_type": "code",
   "execution_count": 0,
   "metadata": {
    "application/vnd.databricks.v1+cell": {
     "cellMetadata": {
      "byteLimit": 2048000,
      "rowLimit": 10000
     },
     "inputWidgets": {},
     "nuid": "78cfeb59-f91f-4431-9e76-5cca06bcabab",
     "showTitle": false,
     "tableResultSettingsMap": {},
     "title": ""
    }
   },
   "outputs": [],
   "source": [
    "key_name"
   ]
  },
  {
   "cell_type": "code",
   "execution_count": 0,
   "metadata": {
    "application/vnd.databricks.v1+cell": {
     "cellMetadata": {
      "byteLimit": 2048000,
      "implicitDf": true,
      "rowLimit": 10000
     },
     "inputWidgets": {},
     "nuid": "0005baa3-a72b-4da4-a74c-1a8e7c8fa570",
     "showTitle": false,
     "tableResultSettingsMap": {},
     "title": ""
    }
   },
   "outputs": [],
   "source": [
    "%sql\n",
    "SELECT CAST(try_aes_decrypt(\n",
    "  unbase64(base64(\n",
    "  aes_encrypt(\n",
    "    randstr(30),\n",
    "    (SELECT crypto.unwrap_akv_key(\n",
    "      key_vault_url=>:key_vault_url,\n",
    "      key_name=>CONCAT('unity-catalog-', :metastore_id, '-', REPLACE(:catalog, '_', '-'), '-kek'),\n",
    "      encrypted_dek=>(SELECT key FROM crypto.keyvault \n",
    "      WHERE key_name = CONCAT(:catalog, '.', :schema) AND key_enabled = true ORDER BY key_version DESC LIMIT 1))),\n",
    "      'GCM',  \n",
    "      'DEFAULT'))),\n",
    "  (SELECT crypto.unwrap_akv_key(\n",
    "      key_vault_url=>:key_vault_url, \n",
    "      key_name=>CONCAT('unity-catalog-', :metastore_id, '-', REPLACE(:catalog, '_', '-'), '-kek'),\n",
    "    encrypted_dek=>(SELECT key FROM crypto.keyvault \n",
    "    WHERE key_name = CONCAT(:catalog, '.', :schema) AND key_enabled = true ORDER BY key_version DESC LIMIT 1))),\n",
    "    'GCM',\n",
    "    'DEFAULT') AS STRING) AS decrypted_random_string"
   ]
  },
  {
   "cell_type": "markdown",
   "metadata": {
    "application/vnd.databricks.v1+cell": {
     "cellMetadata": {},
     "inputWidgets": {},
     "nuid": "4e62efd1-e6d3-4bbc-9bfc-123406e9c405",
     "showTitle": false,
     "tableResultSettingsMap": {},
     "title": ""
    }
   },
   "source": [
    "## Step 5\n",
    "* Create `encrypt()` and `decrypt()` functions that can be used to encrypt/decrypt data within our catalog. \n",
    "* These functions will call our more privileged `unwrap_akv_key()` function in order to unwrap DEKs and encrypt or decrypt the data\n",
    "\n",
    "> ### IMPORTANT: \n",
    "Before running this section please create the account level group `<catalog>.<schema>.crypto.user` and add your user as a member"
   ]
  }
 ],
 "metadata": {
  "application/vnd.databricks.v1+notebook": {
   "computePreferences": {
    "hardware": {
     "accelerator": null,
     "gpuPoolId": null,
     "memory": null
    }
   },
   "dashboards": [],
   "environmentMetadata": {
    "base_environment": "",
    "environment_version": "2"
   },
   "inputWidgetPreferences": null,
   "language": "python",
   "notebookMetadata": {
    "mostRecentlyExecutedCommandWithImplicitDF": {
     "commandId": 4650887061866587,
     "dataframes": [
      "_sqldf"
     ]
    },
    "pythonIndentUnit": 4
   },
   "notebookName": "01_setup",
   "widgets": {
    "azure_key_creation": {
     "currentValue": "True",
     "nuid": "93bc1718-a8fd-4460-b92b-af421b2af6c6",
     "typedWidgetInfo": {
      "autoCreated": false,
      "defaultValue": "True",
      "label": null,
      "name": "azure_key_creation",
      "options": {
       "widgetDisplayType": "Dropdown",
       "choices": [
        "True",
        "False"
       ],
       "fixedDomain": true,
       "multiselect": false
      },
      "parameterDataType": "String"
     },
     "widgetInfo": {
      "widgetType": "dropdown",
      "defaultValue": "True",
      "label": null,
      "name": "azure_key_creation",
      "options": {
       "widgetType": "dropdown",
       "autoCreated": null,
       "choices": [
        "True",
        "False"
       ]
      }
     }
    },
    "catalog": {
     "currentValue": "aweaver_west_europe",
     "nuid": "adc04736-af3b-4d3e-93f9-092c72ccb68d",
     "typedWidgetInfo": {
      "autoCreated": false,
      "defaultValue": "production",
      "label": null,
      "name": "catalog",
      "options": {
       "widgetDisplayType": "Text",
       "validationRegex": null
      },
      "parameterDataType": "String"
     },
     "widgetInfo": {
      "widgetType": "text",
      "defaultValue": "production",
      "label": null,
      "name": "catalog",
      "options": {
       "widgetType": "text",
       "autoCreated": null,
       "validationRegex": null
      }
     }
    },
    "key_vault_url": {
     "currentValue": "https://aweaver-west-europe.vault.azure.net/",
     "nuid": "a5adf368-bd5b-4ea1-9ae2-bd53032cb9f4",
     "typedWidgetInfo": {
      "autoCreated": false,
      "defaultValue": "",
      "label": null,
      "name": "key_vault_url",
      "options": {
       "widgetDisplayType": "Text",
       "validationRegex": null
      },
      "parameterDataType": "String"
     },
     "widgetInfo": {
      "widgetType": "text",
      "defaultValue": "",
      "label": null,
      "name": "key_vault_url",
      "options": {
       "widgetType": "text",
       "autoCreated": null,
       "validationRegex": null
      }
     }
    },
    "metastore_id": {
     "currentValue": "5b2a9ab9-8cea-4262-abdb-7e81e565a1f6",
     "nuid": "7c97c450-c5e4-4570-a542-d2b6b538d3dd",
     "typedWidgetInfo": {
      "autoCreated": false,
      "defaultValue": "5b2a9ab9-8cea-4262-abdb-7e81e565a1f6",
      "label": null,
      "name": "metastore_id",
      "options": {
       "widgetDisplayType": "Text",
       "validationRegex": null
      },
      "parameterDataType": "String"
     },
     "widgetInfo": {
      "widgetType": "text",
      "defaultValue": "5b2a9ab9-8cea-4262-abdb-7e81e565a1f6",
      "label": null,
      "name": "metastore_id",
      "options": {
       "widgetType": "text",
       "autoCreated": null,
       "validationRegex": null
      }
     }
    },
    "schema": {
     "currentValue": "finance",
     "nuid": "16415384-3301-4ce3-a4bc-c29b850887da",
     "typedWidgetInfo": {
      "autoCreated": false,
      "defaultValue": "finance",
      "label": null,
      "name": "schema",
      "options": {
       "widgetDisplayType": "Text",
       "validationRegex": null
      },
      "parameterDataType": "String"
     },
     "widgetInfo": {
      "widgetType": "text",
      "defaultValue": "finance",
      "label": null,
      "name": "schema",
      "options": {
       "widgetType": "text",
       "autoCreated": null,
       "validationRegex": null
      }
     }
    },
    "uc_service_credential": {
     "currentValue": "production-akv",
     "nuid": "5ff25610-c1f9-495f-a17d-7f4ce0de3578",
     "typedWidgetInfo": {
      "autoCreated": false,
      "defaultValue": "production-akv",
      "label": null,
      "name": "uc_service_credential",
      "options": {
       "widgetDisplayType": "Text",
       "validationRegex": null
      },
      "parameterDataType": "String"
     },
     "widgetInfo": {
      "widgetType": "text",
      "defaultValue": "production-akv",
      "label": null,
      "name": "uc_service_credential",
      "options": {
       "widgetType": "text",
       "autoCreated": null,
       "validationRegex": null
      }
     }
    }
   }
  },
  "language_info": {
   "name": "python"
  }
 },
 "nbformat": 4,
 "nbformat_minor": 0
}
