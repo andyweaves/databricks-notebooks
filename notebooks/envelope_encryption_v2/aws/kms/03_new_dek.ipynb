{
 "cells": [
  {
   "cell_type": "code",
   "execution_count": 0,
   "metadata": {
    "application/vnd.databricks.v1+cell": {
     "cellMetadata": {
      "byteLimit": 2048000,
      "rowLimit": 10000
     },
     "inputWidgets": {},
     "nuid": "ce0966c2-9f19-4ef9-8426-92ffdd2bef4e",
     "showTitle": false,
     "tableResultSettingsMap": {},
     "title": ""
    }
   },
   "outputs": [],
   "source": [
    "\n",
    "dbutils.widgets.text(\"metastore_id\", defaultValue=sql(\"SELECT element_at(split(current_metastore(), ':'), -1) AS metastore\").first().metastore)\n",
    "dbutils.widgets.text(\"catalog\", defaultValue=\"production\")\n",
    "dbutils.widgets.text(\"new_schema\", defaultValue=\"finance\")\n",
    "dbutils.widgets.text(\"region\", defaultValue=\"eu-west-1\")\n",
    "dbutils.widgets.text(\"uc_service_credential\", defaultValue=\"production-aws-kms\")\n",
    "\n",
    "metastore_id = dbutils.widgets.get(\"metastore_id\")\n",
    "catalog = dbutils.widgets.get(\"catalog\")\n",
    "region = dbutils.widgets.get(\"region\")\n",
    "new_schema = dbutils.widgets.get(\"new_schema\")\n",
    "service_credential = dbutils.widgets.get(\"uc_service_credential\")"
   ]
  },
  {
   "cell_type": "markdown",
   "metadata": {
    "application/vnd.databricks.v1+cell": {
     "cellMetadata": {},
     "inputWidgets": {},
     "nuid": "b7afe09e-ba47-4396-a5e8-9929e2437b01",
     "showTitle": false,
     "tableResultSettingsMap": {},
     "title": ""
    }
   },
   "source": [
    "## Step 1\n",
    "* Download the titanic dataset and store it in a UC volume for raw files. \n",
    "* We'll use this to simulate a dataset that contains PII (Name, Age, Sex)"
   ]
  },
  {
   "cell_type": "code",
   "execution_count": 0,
   "metadata": {
    "application/vnd.databricks.v1+cell": {
     "cellMetadata": {
      "byteLimit": 2048000,
      "implicitDf": true,
      "rowLimit": 10000
     },
     "inputWidgets": {},
     "nuid": "ee76f3f6-553a-4b6e-8822-05d416743aaa",
     "showTitle": false,
     "tableResultSettingsMap": {},
     "title": ""
    }
   },
   "outputs": [],
   "source": [
    "%sql\n",
    "USE CATALOG IDENTIFIER(:catalog);\n",
    "CREATE SCHEMA IF NOT EXISTS IDENTIFIER(concat(:catalog, '.', :new_schema));\n",
    "CREATE VOLUME IF NOT EXISTS IDENTIFIER(concat(:catalog, '.', :new_schema, '.raw_files'));"
   ]
  },
  {
   "cell_type": "code",
   "execution_count": 0,
   "metadata": {
    "application/vnd.databricks.v1+cell": {
     "cellMetadata": {
      "byteLimit": 2048000,
      "rowLimit": 10000
     },
     "inputWidgets": {},
     "nuid": "ee0d79c4-e45b-4a26-aadf-d762658d5c1b",
     "showTitle": false,
     "tableResultSettingsMap": {},
     "title": ""
    }
   },
   "outputs": [],
   "source": [
    "import subprocess\n",
    "\n",
    "file_url = \"https://raw.githubusercontent.com/datasciencedojo/datasets/master/titanic.csv\"\n",
    "volume_path = f\"/Volumes/{catalog}/{new_schema}/raw_files/titanic.csv\"\n",
    "\n",
    "subprocess.run([\"wget\", file_url, \"-O\", volume_path], check=True)\n",
    "display(dbutils.fs.ls(f\"/Volumes/{catalog}/{new_schema}/raw_files/\"))"
   ]
  },
  {
   "cell_type": "markdown",
   "metadata": {
    "application/vnd.databricks.v1+cell": {
     "cellMetadata": {},
     "inputWidgets": {},
     "nuid": "1a345d77-74b8-48c1-88a2-93c706fcc38c",
     "showTitle": false,
     "tableResultSettingsMap": {},
     "title": ""
    }
   },
   "source": [
    "## Step 2\n",
    "* Generate a new encrypted DEK for our schema\n",
    "* Store the encrypted DEK in the `crypto.keyvault` table"
   ]
  },
  {
   "cell_type": "code",
   "execution_count": 0,
   "metadata": {
    "application/vnd.databricks.v1+cell": {
     "cellMetadata": {
      "byteLimit": 2048000,
      "rowLimit": 10000
     },
     "inputWidgets": {},
     "nuid": "875c34b5-0009-4446-9f5d-1e35a7759774",
     "showTitle": false,
     "tableResultSettingsMap": {},
     "title": ""
    }
   },
   "outputs": [],
   "source": [
    "import boto3\n",
    "\n",
    "crypto_functions = dbutils.import_notebook(\"notebooks.envelope_encryption_v2.common.aws_crypto_functions\")\n",
    "\n",
    "session = boto3.Session(botocore_session=dbutils.credentials.getServiceCredentialsProvider(service_credential), region_name=region)\n",
    "\n",
    "key_alias = f\"alias/unity_catalog/{metastore_id}/{catalog}/cmk\""
   ]
  },
  {
   "cell_type": "code",
   "execution_count": 0,
   "metadata": {
    "application/vnd.databricks.v1+cell": {
     "cellMetadata": {
      "byteLimit": 2048000,
      "rowLimit": 10000
     },
     "inputWidgets": {},
     "nuid": "2a156c4e-90e6-465d-bbec-e1b538cd725f",
     "showTitle": false,
     "tableResultSettingsMap": {},
     "title": ""
    }
   },
   "outputs": [],
   "source": [
    "from databricks.sdk import WorkspaceClient\n",
    "from pyspark.sql.types import StructType, StructField, IntegerType, DateType, TimestampType, StringType, BooleanType, BinaryType\n",
    "from datetime import datetime\n",
    "from datetime import date\n",
    "\n",
    "ws = WorkspaceClient()\n",
    "\n",
    "dek = crypto_functions.generate_data_key(session=session, key_alias=key_alias, encryption_context={\"metastore/catalog\": f\"{metastore_id}/{catalog}\"}).get(\"CiphertextBlob\")\n",
    "\n",
    "alias = f\"{catalog}.{new_schema}\"\n",
    "\n",
    "key_version = sql(f\"SELECT MAX(key_version) AS max_version FROM crypto.keyvault WHERE key_alias = '{alias}'\").first().max_version\n",
    "\n",
    "if not key_version:\n",
    "  key_version = 1\n",
    "else:\n",
    "  key_version += 1\n",
    "\n",
    "keyvault_schema = StructType([\n",
    "    StructField(\"created_date\", DateType(), False),\n",
    "    StructField(\"created_time\", TimestampType(), False),\n",
    "    StructField(\"last_modified_time\", TimestampType(), False),\n",
    "    StructField(\"created_by\", StringType(), False),\n",
    "    StructField(\"managed_by\", StringType(), False),\n",
    "    StructField(\"key_alias\", StringType(), False),\n",
    "    StructField(\"key_enabled\", BooleanType(), False),\n",
    "    StructField(\"key_version\", IntegerType(), True),\n",
    "    StructField(\"key_type\", StringType(), False),\n",
    "    StructField(\"key\", BinaryType(), False)\n",
    "])\n",
    "\n",
    "keyvault_data = [{\"created_date\": date.today(), \"created_time\": datetime.now(), \"last_modified_time\": datetime.now(), \"created_by\": ws.current_user.me().user_name, \"managed_by\": ws.current_user.me().user_name, \"key_enabled\": True, \"key_version\": key_version, \"key_type\": \"ENCRYPTED_DEK\", \"key_alias\": alias, \"key\": dek}]\n",
    "\n",
    "spark.createDataFrame(keyvault_data, keyvault_schema).createOrReplaceTempView(\"tmp_keyvault\")"
   ]
  },
  {
   "cell_type": "code",
   "execution_count": 0,
   "metadata": {
    "application/vnd.databricks.v1+cell": {
     "cellMetadata": {
      "byteLimit": 2048000,
      "implicitDf": true,
      "rowLimit": 10000
     },
     "inputWidgets": {},
     "nuid": "7d9f20fa-1e09-4df5-ad8a-14f5f315f79a",
     "showTitle": false,
     "tableResultSettingsMap": {},
     "title": ""
    }
   },
   "outputs": [],
   "source": [
    "%sql\n",
    "INSERT INTO crypto.keyvault (created_date, created_time, last_modified_time, created_by, managed_by, key_alias, key_enabled, key_version, key_type, key)\n",
    "SELECT * FROM tmp_keyvault"
   ]
  },
  {
   "cell_type": "code",
   "execution_count": 0,
   "metadata": {
    "application/vnd.databricks.v1+cell": {
     "cellMetadata": {
      "byteLimit": 2048000,
      "implicitDf": true,
      "rowLimit": 10000
     },
     "inputWidgets": {},
     "nuid": "f2fdeff9-7af6-4b02-bc06-3b0916594dc6",
     "showTitle": false,
     "tableResultSettingsMap": {},
     "title": ""
    }
   },
   "outputs": [],
   "source": [
    "%sql\n",
    "SELECT \n",
    "* \n",
    "FROM crypto.keyvault \n",
    "WHERE key_alias = concat(:catalog, '.', :new_schema) \n",
    "AND key_enabled = true\n",
    "ORDER BY key_version DESC "
   ]
  },
  {
   "cell_type": "markdown",
   "metadata": {
    "application/vnd.databricks.v1+cell": {
     "cellMetadata": {},
     "inputWidgets": {},
     "nuid": "8d9383d3-17b3-4383-a50c-8f5a23226928",
     "showTitle": false,
     "tableResultSettingsMap": {},
     "title": ""
    }
   },
   "source": [
    "## Step 3\n",
    "* Create a table from the raw data we downloaded above, encrypting the columns that contain sensitive data\n",
    "> ### IMPORTANT: \n",
    "Before running this section please create the account level group `<catalog>.<schema>.crypto.user` and add your user as a member"
   ]
  },
  {
   "cell_type": "code",
   "execution_count": 0,
   "metadata": {
    "application/vnd.databricks.v1+cell": {
     "cellMetadata": {
      "byteLimit": 2048000,
      "implicitDf": true,
      "rowLimit": 10000
     },
     "inputWidgets": {},
     "nuid": "abc6f6c0-d09b-4d7a-9271-a68496f49e35",
     "showTitle": false,
     "tableResultSettingsMap": {},
     "title": ""
    }
   },
   "outputs": [],
   "source": [
    "%sql\n",
    "CREATE OR REPLACE TABLE IDENTIFIER(:catalog || '.' || :new_schema || '.titanic') AS (\n",
    "SELECT \n",
    "PassengerId,\n",
    "crypto.encrypt(Name, :catalog, :new_schema) AS Name,\n",
    "crypto.encrypt(Age, :catalog, :new_schema) AS Age,\n",
    "crypto.encrypt(Sex, :catalog, :new_schema) AS Sex,\n",
    "* EXCEPT(PassengerId, Name, Age, Sex)\n",
    "FROM read_files(\n",
    "  concat('/Volumes/', :catalog, '/', :new_schema, '/raw_files/titanic.csv'),\n",
    "  format => 'csv',\n",
    "  header => true,\n",
    "  mode => 'FAILFAST'));\n",
    "  SELECT * FROM IDENTIFIER(:catalog || '.' || :new_schema || '.titanic')"
   ]
  },
  {
   "cell_type": "markdown",
   "metadata": {
    "application/vnd.databricks.v1+cell": {
     "cellMetadata": {},
     "inputWidgets": {},
     "nuid": "c4123f6b-3460-473e-a718-07cd45d3624a",
     "showTitle": false,
     "tableResultSettingsMap": {},
     "title": ""
    }
   },
   "source": [
    "## Step 4\n",
    "* Check that the decrypt functions work as expected..."
   ]
  },
  {
   "cell_type": "code",
   "execution_count": 0,
   "metadata": {
    "application/vnd.databricks.v1+cell": {
     "cellMetadata": {
      "byteLimit": 2048000,
      "implicitDf": true,
      "rowLimit": 10000
     },
     "inputWidgets": {},
     "nuid": "f63e14e5-73dc-41bb-9526-2d95ac578321",
     "showTitle": false,
     "tableResultSettingsMap": {},
     "title": ""
    }
   },
   "outputs": [],
   "source": [
    "%sql\n",
    "SELECT\n",
    "PassengerId,\n",
    "crypto.decrypt(Name, :catalog, :new_schema) AS Name,\n",
    "crypto.decrypt(Age, :catalog, :new_schema) AS Age,\n",
    "crypto.decrypt(Sex, :catalog, :new_schema) AS Sex,\n",
    "* EXCEPT(PassengerId, Name, Age, Sex)\n",
    "FROM IDENTIFIER(:catalog || '.' || :new_schema || '.titanic')"
   ]
  }
 ],
 "metadata": {
  "application/vnd.databricks.v1+notebook": {
   "computePreferences": null,
   "dashboards": [],
   "environmentMetadata": {
    "base_environment": "",
    "environment_version": "2"
   },
   "inputWidgetPreferences": null,
   "language": "python",
   "notebookMetadata": {
    "mostRecentlyExecutedCommandWithImplicitDF": {
     "commandId": 5484222550128207,
     "dataframes": [
      "_sqldf"
     ]
    },
    "pythonIndentUnit": 4
   },
   "notebookName": "03_new_dek",
   "widgets": {
    "catalog": {
     "currentValue": "production",
     "nuid": "e8d1f131-be20-4047-852f-75399ed4202d",
     "typedWidgetInfo": {
      "autoCreated": false,
      "defaultValue": "production",
      "label": null,
      "name": "catalog",
      "options": {
       "widgetDisplayType": "Text",
       "validationRegex": null
      },
      "parameterDataType": "String"
     },
     "widgetInfo": {
      "widgetType": "text",
      "defaultValue": "production",
      "label": null,
      "name": "catalog",
      "options": {
       "widgetType": "text",
       "autoCreated": null,
       "validationRegex": null
      }
     }
    },
    "metastore_id": {
     "currentValue": "912bf8cb-15db-4157-a42b-b569005b37d3",
     "nuid": "e4261bf9-7e07-469c-a05f-833b467c9185",
     "typedWidgetInfo": {
      "autoCreated": false,
      "defaultValue": "912bf8cb-15db-4157-a42b-b569005b37d3",
      "label": null,
      "name": "metastore_id",
      "options": {
       "widgetDisplayType": "Text",
       "validationRegex": null
      },
      "parameterDataType": "String"
     },
     "widgetInfo": {
      "widgetType": "text",
      "defaultValue": "912bf8cb-15db-4157-a42b-b569005b37d3",
      "label": null,
      "name": "metastore_id",
      "options": {
       "widgetType": "text",
       "autoCreated": null,
       "validationRegex": null
      }
     }
    },
    "new_schema": {
     "currentValue": "finance",
     "nuid": "d66de27d-884f-45f5-919f-86070fcf7890",
     "typedWidgetInfo": {
      "autoCreated": false,
      "defaultValue": "finance",
      "label": null,
      "name": "new_schema",
      "options": {
       "widgetDisplayType": "Text",
       "validationRegex": null
      },
      "parameterDataType": "String"
     },
     "widgetInfo": {
      "widgetType": "text",
      "defaultValue": "finance",
      "label": null,
      "name": "new_schema",
      "options": {
       "widgetType": "text",
       "autoCreated": null,
       "validationRegex": null
      }
     }
    },
    "region": {
     "currentValue": "eu-west-1",
     "nuid": "8627dc49-81fb-498d-a0e2-e7a1883aa3d5",
     "typedWidgetInfo": {
      "autoCreated": false,
      "defaultValue": "eu-west-1",
      "label": null,
      "name": "region",
      "options": {
       "widgetDisplayType": "Text",
       "validationRegex": null
      },
      "parameterDataType": "String"
     },
     "widgetInfo": {
      "widgetType": "text",
      "defaultValue": "eu-west-1",
      "label": null,
      "name": "region",
      "options": {
       "widgetType": "text",
       "autoCreated": null,
       "validationRegex": null
      }
     }
    },
    "uc_service_credential": {
     "currentValue": "production-aws-kms",
     "nuid": "b6cdd5c1-e8fc-4aaf-a353-94924f637e29",
     "typedWidgetInfo": {
      "autoCreated": false,
      "defaultValue": "production-aws-kms",
      "label": null,
      "name": "uc_service_credential",
      "options": {
       "widgetDisplayType": "Text",
       "validationRegex": null
      },
      "parameterDataType": "String"
     },
     "widgetInfo": {
      "widgetType": "text",
      "defaultValue": "production-aws-kms",
      "label": null,
      "name": "uc_service_credential",
      "options": {
       "widgetType": "text",
       "autoCreated": null,
       "validationRegex": null
      }
     }
    }
   }
  },
  "language_info": {
   "name": "python"
  }
 },
 "nbformat": 4,
 "nbformat_minor": 0
}
