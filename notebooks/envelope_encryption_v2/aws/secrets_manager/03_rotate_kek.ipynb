{
 "cells": [
  {
   "cell_type": "code",
   "execution_count": 0,
   "metadata": {
    "application/vnd.databricks.v1+cell": {
     "cellMetadata": {
      "byteLimit": 2048000,
      "rowLimit": 10000
     },
     "inputWidgets": {},
     "nuid": "f215bfb6-f122-4e4d-b462-19f818a0c69d",
     "showTitle": false,
     "tableResultSettingsMap": {},
     "title": ""
    }
   },
   "outputs": [],
   "source": [
    "%pip install -r ../requirements.txt"
   ]
  },
  {
   "cell_type": "code",
   "execution_count": 0,
   "metadata": {
    "application/vnd.databricks.v1+cell": {
     "cellMetadata": {
      "byteLimit": 2048000,
      "rowLimit": 10000
     },
     "inputWidgets": {},
     "nuid": "f9156001-c3ef-4877-9ed0-c1086899c44e",
     "showTitle": false,
     "tableResultSettingsMap": {},
     "title": ""
    }
   },
   "outputs": [],
   "source": [
    "dbutils.widgets.text(\"region\", defaultValue=\"eu-west-1\")\n",
    "dbutils.widgets.text(\"catalog\", defaultValue=\"production\")\n",
    "dbutils.widgets.text(\"uc_service_credential\", defaultValue=\"production-aws-secrets-manager\")\n",
    "dbutils.widgets.text(\"secrets_manager_arn\", defaultValue=\"\")\n",
    "\n",
    "metastore_id = sql(\"SELECT element_at(split(current_metastore(), ':'), -1) AS metastore\").first().metastore\n",
    "catalog = dbutils.widgets.get(\"catalog\")\n",
    "region = dbutils.widgets.get(\"region\")\n",
    "service_credential = dbutils.widgets.get(\"uc_service_credential\")\n",
    "secrets_manager_arn = dbutils.widgets.get(\"secrets_manager_arn\")"
   ]
  },
  {
   "cell_type": "code",
   "execution_count": 0,
   "metadata": {
    "application/vnd.databricks.v1+cell": {
     "cellMetadata": {
      "byteLimit": 2048000,
      "rowLimit": 10000
     },
     "inputWidgets": {},
     "nuid": "e034e84b-b434-4e4d-8e21-7239b534f87b",
     "showTitle": false,
     "tableResultSettingsMap": {},
     "title": ""
    }
   },
   "outputs": [],
   "source": [
    "import boto3\n",
    "\n",
    "crypto_functions = dbutils.import_notebook(\"notebooks.envelope_encryption_v2.common.pycrypto_functions\")\n",
    "\n",
    "boto3_session = boto3.Session(botocore_session=dbutils.credentials.getServiceCredentialsProvider(service_credential), region_name=dbutils.widgets.get(\"region\"))\n",
    "secrets = crypto_functions.get_aws_secret(boto3_session, secrets_manager_arn)\n",
    "prev_kek_password, prev_kek_salt = secrets.pop(\"kek_password\"), secrets.pop(\"kek_salt\")"
   ]
  },
  {
   "cell_type": "code",
   "execution_count": 0,
   "metadata": {
    "application/vnd.databricks.v1+cell": {
     "cellMetadata": {
      "byteLimit": 2048000,
      "rowLimit": 10000
     },
     "inputWidgets": {},
     "nuid": "fbf35209-bc6d-4490-a9f9-b787c8c121f8",
     "showTitle": false,
     "tableResultSettingsMap": {},
     "title": ""
    }
   },
   "outputs": [],
   "source": [
    "new_kek = crypto_functions.generate_kek()\n",
    "\n",
    "rotated_secrets = {}\n",
    "\n",
    "for k, v in secrets.items():\n",
    "\n",
    "    if k.endswith(\"_dek\"):\n",
    "        new_dek = {}\n",
    "        schema = k.split('_dek')[0]\n",
    "        print(f\"Rotating DEK for schema '{schema}'...\")\n",
    "        dek, nonce, tag = secrets.get(f\"{schema}_dek\"), secrets.get(f\"{schema}_nonce\"), secrets.get(f\"{schema}_tag\")\n",
    "        encrypted_dek = crypto_functions.encrypt_with_kek(kek_password=new_kek.get(\"kek_password\"), kek_salt=new_kek.get(\"kek_salt\"), to_encrypt=crypto_functions.decrypt_with_kek(kek_password=prev_kek_password, kek_salt=prev_kek_salt, to_decrypt=dek, nonce=nonce, tag=tag))\n",
    "        new_dek.update({f\"{schema}_dek\": encrypted_dek.pop(\"encrypted_string\"),\n",
    "            f\"{schema}_nonce\": encrypted_dek.pop(\"nonce\"),\n",
    "            f\"{schema}_tag\": encrypted_dek.pop(\"tag\")})\n",
    "        rotated_secrets.update(new_dek)"
   ]
  },
  {
   "cell_type": "code",
   "execution_count": 0,
   "metadata": {
    "application/vnd.databricks.v1+cell": {
     "cellMetadata": {
      "byteLimit": 2048000,
      "rowLimit": 10000
     },
     "inputWidgets": {},
     "nuid": "55cc2917-b558-4e9f-9f3f-e7284000c8ce",
     "showTitle": false,
     "tableResultSettingsMap": {},
     "title": ""
    }
   },
   "outputs": [],
   "source": [
    "import json\n",
    "\n",
    "response = crypto_functions.put_aws_secret(boto3_session, secrets_manager_arn, json.dumps(new_kek|rotated_secrets))\n",
    "response"
   ]
  }
 ],
 "metadata": {
  "application/vnd.databricks.v1+notebook": {
   "computePreferences": null,
   "dashboards": [],
   "environmentMetadata": {
    "base_environment": "",
    "environment_version": "2"
   },
   "inputWidgetPreferences": null,
   "language": "python",
   "notebookMetadata": {
    "pythonIndentUnit": 4
   },
   "notebookName": "03_rotate_kek",
   "widgets": {
    "catalog": {
     "currentValue": "production",
     "nuid": "ee04dc6f-aec7-4ca8-977f-86c97f211575",
     "typedWidgetInfo": {
      "autoCreated": false,
      "defaultValue": "production",
      "label": null,
      "name": "catalog",
      "options": {
       "widgetDisplayType": "Text",
       "validationRegex": null
      },
      "parameterDataType": "String"
     },
     "widgetInfo": {
      "widgetType": "text",
      "defaultValue": "production",
      "label": null,
      "name": "catalog",
      "options": {
       "widgetType": "text",
       "autoCreated": null,
       "validationRegex": null
      }
     }
    },
    "region": {
     "currentValue": "eu-west-1",
     "nuid": "aa01ff66-f57a-4d11-b532-4e86a49f327e",
     "typedWidgetInfo": {
      "autoCreated": false,
      "defaultValue": "eu-west-1",
      "label": null,
      "name": "region",
      "options": {
       "widgetDisplayType": "Text",
       "validationRegex": null
      },
      "parameterDataType": "String"
     },
     "widgetInfo": {
      "widgetType": "text",
      "defaultValue": "eu-west-1",
      "label": null,
      "name": "region",
      "options": {
       "widgetType": "text",
       "autoCreated": null,
       "validationRegex": null
      }
     }
    },
    "secrets_manager_arn": {
     "currentValue": "",
     "nuid": "0b2de1af-588f-41c5-93f8-ad273f6b97b2",
     "typedWidgetInfo": {
      "autoCreated": false,
      "defaultValue": "",
      "label": null,
      "name": "secrets_manager_arn",
      "options": {
       "widgetDisplayType": "Text",
       "validationRegex": null
      },
      "parameterDataType": "String"
     },
     "widgetInfo": {
      "widgetType": "text",
      "defaultValue": "",
      "label": null,
      "name": "secrets_manager_arn",
      "options": {
       "widgetType": "text",
       "autoCreated": null,
       "validationRegex": null
      }
     }
    },
    "uc_service_credential": {
     "currentValue": "production-aws-secrets-manager",
     "nuid": "9092fbdb-1c72-4947-b13f-4c6cac76182c",
     "typedWidgetInfo": {
      "autoCreated": false,
      "defaultValue": "production-aws-secrets-manager",
      "label": null,
      "name": "uc_service_credential",
      "options": {
       "widgetDisplayType": "Text",
       "validationRegex": null
      },
      "parameterDataType": "String"
     },
     "widgetInfo": {
      "widgetType": "text",
      "defaultValue": "production-aws-secrets-manager",
      "label": null,
      "name": "uc_service_credential",
      "options": {
       "widgetType": "text",
       "autoCreated": null,
       "validationRegex": null
      }
     }
    }
   }
  },
  "language_info": {
   "name": "python"
  }
 },
 "nbformat": 4,
 "nbformat_minor": 0
}
