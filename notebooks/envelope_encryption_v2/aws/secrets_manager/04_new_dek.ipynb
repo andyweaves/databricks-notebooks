{
 "cells": [
  {
   "cell_type": "code",
   "execution_count": 0,
   "metadata": {
    "application/vnd.databricks.v1+cell": {
     "cellMetadata": {
      "byteLimit": 2048000,
      "rowLimit": 10000
     },
     "inputWidgets": {},
     "nuid": "0297a209-0cf8-40e2-9063-06b59f2ca8e0",
     "showTitle": false,
     "tableResultSettingsMap": {},
     "title": ""
    }
   },
   "outputs": [],
   "source": [
    "%pip install -r ../requirements.txt"
   ]
  },
  {
   "cell_type": "code",
   "execution_count": 0,
   "metadata": {
    "application/vnd.databricks.v1+cell": {
     "cellMetadata": {
      "byteLimit": 2048000,
      "rowLimit": 10000
     },
     "inputWidgets": {},
     "nuid": "d2c81cc0-8055-4b27-99f3-34f5f1d24fe5",
     "showTitle": false,
     "tableResultSettingsMap": {},
     "title": ""
    }
   },
   "outputs": [],
   "source": [
    "dbutils.widgets.text(\"new_schema\", defaultValue=\"finance\")\n",
    "dbutils.widgets.text(\"region\", defaultValue=\"eu-west-1\")\n",
    "dbutils.widgets.text(\"catalog\", defaultValue=\"production\")\n",
    "dbutils.widgets.text(\"uc_service_credential\", defaultValue=\"production-aws-secrets-manager\")\n",
    "dbutils.widgets.text(\"secrets_manager_arn\", defaultValue=\"\")\n",
    "\n",
    "metastore_id = sql(\"SELECT element_at(split(current_metastore(), ':'), -1) AS metastore\").first().metastore\n",
    "catalog = dbutils.widgets.get(\"catalog\")\n",
    "region = dbutils.widgets.get(\"region\")\n",
    "schema = dbutils.widgets.get(\"new_schema\")\n",
    "service_credential = dbutils.widgets.get(\"uc_service_credential\")\n",
    "secrets_manager_arn = dbutils.widgets.get(\"secrets_manager_arn\")"
   ]
  },
  {
   "cell_type": "code",
   "execution_count": 0,
   "metadata": {
    "application/vnd.databricks.v1+cell": {
     "cellMetadata": {
      "byteLimit": 2048000,
      "rowLimit": 10000
     },
     "inputWidgets": {},
     "nuid": "61ff76bd-9f60-452a-957c-79ecdf35c9ef",
     "showTitle": false,
     "tableResultSettingsMap": {},
     "title": ""
    }
   },
   "outputs": [],
   "source": [
    "import boto3\n",
    "\n",
    "crypto_functions = dbutils.import_notebook(\"notebooks.envelope_encryption_v2.common.pycrypto_functions\")\n",
    "\n",
    "boto3_session = boto3.Session(botocore_session=dbutils.credentials.getServiceCredentialsProvider(service_credential), region_name=dbutils.widgets.get(\"region\"))\n",
    "secrets = crypto_functions.get_aws_secret(boto3_session, secrets_manager_arn)"
   ]
  },
  {
   "cell_type": "code",
   "execution_count": 0,
   "metadata": {
    "application/vnd.databricks.v1+cell": {
     "cellMetadata": {
      "byteLimit": 2048000,
      "rowLimit": 10000
     },
     "inputWidgets": {},
     "nuid": "a6f6659c-6298-49b1-8843-1712b6f3b485",
     "showTitle": false,
     "tableResultSettingsMap": {},
     "title": ""
    }
   },
   "outputs": [],
   "source": [
    "dek = crypto_functions.generate_dek()\n",
    "encrypted_dek = crypto_functions.encrypt_with_kek(\n",
    "    kek_password=secrets.get(\"kek_password\"), \n",
    "    kek_salt=secrets.get(\"kek_salt\"), \n",
    "    to_encrypt=dek.get(\"private_key\"))\n",
    "encrypted_dek[\"dek\"] = encrypted_dek.get(\"encrypted_string\")\n",
    "del dek[\"private_key\"]\n",
    "del encrypted_dek[\"encrypted_string\"]\n",
    "updated_secret = {f\"{schema}_{k}\": v for k, v in (encrypted_dek | dek).items()}"
   ]
  },
  {
   "cell_type": "code",
   "execution_count": 0,
   "metadata": {
    "application/vnd.databricks.v1+cell": {
     "cellMetadata": {
      "byteLimit": 2048000,
      "rowLimit": 10000
     },
     "inputWidgets": {},
     "nuid": "9cc7746a-2603-4f24-90b5-25b66b7b04ff",
     "showTitle": false,
     "tableResultSettingsMap": {},
     "title": ""
    }
   },
   "outputs": [],
   "source": [
    "import json\n",
    "\n",
    "response = crypto_functions.put_aws_secret(boto3_session, secrets_manager_arn, json.dumps(secrets|updated_secret))\n",
    "response"
   ]
  }
 ],
 "metadata": {
  "application/vnd.databricks.v1+notebook": {
   "computePreferences": null,
   "dashboards": [],
   "environmentMetadata": {
    "base_environment": "",
    "environment_version": "2"
   },
   "inputWidgetPreferences": null,
   "language": "python",
   "notebookMetadata": {
    "pythonIndentUnit": 4
   },
   "notebookName": "04_new_dek",
   "widgets": {
    "catalog": {
     "currentValue": "production",
     "nuid": "20a38a5d-1fa6-4b76-83fd-b7ce18b8047c",
     "typedWidgetInfo": {
      "autoCreated": false,
      "defaultValue": "production",
      "label": null,
      "name": "catalog",
      "options": {
       "widgetDisplayType": "Text",
       "validationRegex": null
      },
      "parameterDataType": "String"
     },
     "widgetInfo": {
      "widgetType": "text",
      "defaultValue": "production",
      "label": null,
      "name": "catalog",
      "options": {
       "widgetType": "text",
       "autoCreated": null,
       "validationRegex": null
      }
     }
    },
    "new_schema": {
     "currentValue": "finance",
     "nuid": "55076f2a-3eef-4958-be3a-3d4b71f7b774",
     "typedWidgetInfo": {
      "autoCreated": false,
      "defaultValue": "finance",
      "label": null,
      "name": "new_schema",
      "options": {
       "widgetDisplayType": "Text",
       "validationRegex": null
      },
      "parameterDataType": "String"
     },
     "widgetInfo": {
      "widgetType": "text",
      "defaultValue": "finance",
      "label": null,
      "name": "new_schema",
      "options": {
       "widgetType": "text",
       "autoCreated": null,
       "validationRegex": null
      }
     }
    },
    "region": {
     "currentValue": "eu-west-1",
     "nuid": "842cd3c8-cf9c-442f-aa89-5d7ac48a0575",
     "typedWidgetInfo": {
      "autoCreated": false,
      "defaultValue": "eu-west-1",
      "label": null,
      "name": "region",
      "options": {
       "widgetDisplayType": "Text",
       "validationRegex": null
      },
      "parameterDataType": "String"
     },
     "widgetInfo": {
      "widgetType": "text",
      "defaultValue": "eu-west-1",
      "label": null,
      "name": "region",
      "options": {
       "widgetType": "text",
       "autoCreated": null,
       "validationRegex": null
      }
     }
    },
    "secrets_manager_arn": {
     "currentValue": "",
     "nuid": "db76f11b-5c87-42fb-a78b-d763177bb7f2",
     "typedWidgetInfo": {
      "autoCreated": false,
      "defaultValue": "",
      "label": null,
      "name": "secrets_manager_arn",
      "options": {
       "widgetDisplayType": "Text",
       "validationRegex": null
      },
      "parameterDataType": "String"
     },
     "widgetInfo": {
      "widgetType": "text",
      "defaultValue": "",
      "label": null,
      "name": "secrets_manager_arn",
      "options": {
       "widgetType": "text",
       "autoCreated": null,
       "validationRegex": null
      }
     }
    },
    "uc_service_credential": {
     "currentValue": "production-aws-secrets-manager",
     "nuid": "beecabd3-e737-4dc9-86cd-c8eba89eadf6",
     "typedWidgetInfo": {
      "autoCreated": false,
      "defaultValue": "production-aws-secrets-manager",
      "label": null,
      "name": "uc_service_credential",
      "options": {
       "widgetDisplayType": "Text",
       "validationRegex": null
      },
      "parameterDataType": "String"
     },
     "widgetInfo": {
      "widgetType": "text",
      "defaultValue": "production-aws-secrets-manager",
      "label": null,
      "name": "uc_service_credential",
      "options": {
       "widgetType": "text",
       "autoCreated": null,
       "validationRegex": null
      }
     }
    }
   }
  },
  "language_info": {
   "name": "python"
  }
 },
 "nbformat": 4,
 "nbformat_minor": 0
}
