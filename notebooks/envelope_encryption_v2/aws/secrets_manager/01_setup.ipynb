{
 "cells": [
  {
   "cell_type": "code",
   "execution_count": 0,
   "metadata": {
    "application/vnd.databricks.v1+cell": {
     "cellMetadata": {
      "byteLimit": 2048000,
      "rowLimit": 10000
     },
     "inputWidgets": {},
     "nuid": "ff9cd2a0-d6c6-4e68-9cde-50f00d48586d",
     "showTitle": false,
     "tableResultSettingsMap": {},
     "title": ""
    }
   },
   "outputs": [],
   "source": [
    "%pip install -r ../../requirements.txt -q"
   ]
  },
  {
   "cell_type": "code",
   "execution_count": 0,
   "metadata": {
    "application/vnd.databricks.v1+cell": {
     "cellMetadata": {
      "byteLimit": 2048000,
      "rowLimit": 10000
     },
     "inputWidgets": {},
     "nuid": "45728807-f4b7-4b1c-afde-3c7e182cc859",
     "showTitle": false,
     "tableResultSettingsMap": {},
     "title": ""
    }
   },
   "outputs": [],
   "source": [
    "dbutils.widgets.dropdown(\"aws_secret_creation\", defaultValue=\"True\", choices=[\"True\", \"False\"])\n",
    "dbutils.widgets.text(\"schema\", defaultValue=\"human_resources\")\n",
    "dbutils.widgets.text(\"region\", defaultValue=\"eu-west-1\")\n",
    "dbutils.widgets.text(\"catalog\", defaultValue=\"production\")\n",
    "dbutils.widgets.text(\"uc_service_credential\", defaultValue=\"production-aws-secrets-manager\")\n",
    "\n",
    "metastore_id = sql(\"SELECT element_at(split(current_metastore(), ':'), -1) AS metastore\").first().metastore\n",
    "catalog = dbutils.widgets.get(\"catalog\")\n",
    "region = dbutils.widgets.get(\"region\")\n",
    "schema = dbutils.widgets.get(\"schema\")\n",
    "service_credential = dbutils.widgets.get(\"uc_service_credential\")"
   ]
  },
  {
   "cell_type": "markdown",
   "metadata": {
    "application/vnd.databricks.v1+cell": {
     "cellMetadata": {},
     "inputWidgets": {},
     "nuid": "be8063fc-7cb6-454f-9b1f-12ce7ba4617b",
     "showTitle": false,
     "tableResultSettingsMap": {},
     "title": ""
    }
   },
   "source": [
    "## Step 1\n",
    "* Download the titanic dataset and store it in a UC volume for raw files. \n",
    "* We'll use this to simulate a dataset that contains PII (Name, Age, Sex)"
   ]
  },
  {
   "cell_type": "code",
   "execution_count": 0,
   "metadata": {
    "application/vnd.databricks.v1+cell": {
     "cellMetadata": {
      "byteLimit": 2048000,
      "implicitDf": true,
      "rowLimit": 10000
     },
     "inputWidgets": {},
     "nuid": "cc98a825-03eb-46c4-9202-116a0266b54a",
     "showTitle": false,
     "tableResultSettingsMap": {},
     "title": ""
    }
   },
   "outputs": [],
   "source": [
    "%sql\n",
    "USE CATALOG IDENTIFIER(:catalog);\n",
    "CREATE SCHEMA IF NOT EXISTS IDENTIFIER(concat(:catalog, '.', :schema));\n",
    "CREATE VOLUME IF NOT EXISTS IDENTIFIER(concat(:catalog, '.', :schema, '.raw_files'));"
   ]
  },
  {
   "cell_type": "code",
   "execution_count": 0,
   "metadata": {
    "application/vnd.databricks.v1+cell": {
     "cellMetadata": {
      "byteLimit": 2048000,
      "rowLimit": 10000
     },
     "inputWidgets": {},
     "nuid": "dd70b4de-70e2-447c-996b-e01ad78f3448",
     "showTitle": false,
     "tableResultSettingsMap": {},
     "title": ""
    }
   },
   "outputs": [],
   "source": [
    "import subprocess\n",
    "\n",
    "file_url = \"https://raw.githubusercontent.com/datasciencedojo/datasets/master/titanic.csv\"\n",
    "volume_path = f\"/Volumes/{catalog}/{schema}/raw_files/titanic.csv\"\n",
    "\n",
    "subprocess.run([\"wget\", file_url, \"-O\", volume_path], check=True)\n",
    "display(dbutils.fs.ls(f\"/Volumes/{catalog}/{schema}/raw_files/\"))"
   ]
  },
  {
   "cell_type": "markdown",
   "metadata": {
    "application/vnd.databricks.v1+cell": {
     "cellMetadata": {},
     "inputWidgets": {},
     "nuid": "7a38845e-f8d1-4f6e-a5db-5cf32ec49907",
     "showTitle": false,
     "tableResultSettingsMap": {},
     "title": ""
    }
   },
   "source": [
    "## Step 2\n",
    "* Generate a KEK and DEK "
   ]
  },
  {
   "cell_type": "code",
   "execution_count": 0,
   "metadata": {
    "application/vnd.databricks.v1+cell": {
     "cellMetadata": {
      "byteLimit": 2048000,
      "rowLimit": 10000
     },
     "inputWidgets": {},
     "nuid": "bba128fc-91e7-45ce-955e-37b7376cd29f",
     "showTitle": false,
     "tableResultSettingsMap": {},
     "title": ""
    }
   },
   "outputs": [],
   "source": [
    "crypto_functions = dbutils.import_notebook(\"notebooks.envelope_encryption_v2.common.pycrypto_functions\")\n",
    "\n",
    "kek = crypto_functions.generate_kek()\n",
    "dek = crypto_functions.generate_dek()\n",
    "encrypted_dek = crypto_functions.encrypt_with_kek(\n",
    "    kek_password=kek.get(\"kek_password\"), \n",
    "    kek_salt=kek.get(\"kek_salt\"), \n",
    "    to_encrypt=dek.get(\"private_key\"))\n",
    "encrypted_dek[\"dek\"] = encrypted_dek.get(\"encrypted_string\")\n",
    "del dek[\"private_key\"]\n",
    "del encrypted_dek[\"encrypted_string\"]\n",
    "secret = encrypted_dek | dek\n",
    "updated_secret = {f\"{schema}_{k}\": v for k, v in secret.items()}"
   ]
  },
  {
   "cell_type": "markdown",
   "metadata": {
    "application/vnd.databricks.v1+cell": {
     "cellMetadata": {},
     "inputWidgets": {},
     "nuid": "40bb5c56-c8bc-4f25-8d27-e83cd8119af7",
     "showTitle": false,
     "tableResultSettingsMap": {},
     "title": ""
    }
   },
   "source": [
    "## Step 3\n",
    "* Create an AWS secret to store our KEK and DEK\n",
    "* In order for this to work your UC service credential will need the following privileges: `\"secretsmanager:ListSecrets\", \"secretsmanager:CreateSecret\"`\n",
    "* You can optionally create your secret manually, via your own scripts or via IaaC such as Terraform"
   ]
  },
  {
   "cell_type": "code",
   "execution_count": 0,
   "metadata": {
    "application/vnd.databricks.v1+cell": {
     "cellMetadata": {
      "byteLimit": 2048000,
      "rowLimit": 10000
     },
     "inputWidgets": {},
     "nuid": "cce5dfd6-2017-4a3d-916c-c41962a1e2bf",
     "showTitle": false,
     "tableResultSettingsMap": {},
     "title": ""
    }
   },
   "outputs": [],
   "source": [
    "import json \n",
    "import boto3\n",
    "from botocore.exceptions import ClientError\n",
    "\n",
    "if eval(dbutils.widgets.get(\"aws_secret_creation\")):\n",
    "\n",
    "    secret_string = json.dumps(kek|updated_secret)\n",
    "\n",
    "    boto3_session = boto3.Session(botocore_session=dbutils.credentials.getServiceCredentialsProvider(service_credential), region_name=dbutils.widgets.get(\"region\"))\n",
    "\n",
    "    try:\n",
    "        secret = crypto_functions.create_aws_secret(\n",
    "            session=boto3_session, \n",
    "            secret_name=f\"unity_catalog/{metastore_id}/{catalog}\", \n",
    "            secret_description=f\"KEK and encrypted DEKs for the UC catalog {catalog} in metastore {metastore_id}\", \n",
    "            secret_string=secret_string, \n",
    "            tags=[], \n",
    "            kms_key=\"alias/aws/secretsmanager\")\n",
    "        print(f\"Successfully created secret in AWS!\\nName: {secret.get('Name')}\\nARN: {secret.get('ARN')}\\nVersion: {secret.get('VersionId')}\")\n",
    "    except ClientError as e:\n",
    "        print(e)"
   ]
  },
  {
   "cell_type": "markdown",
   "metadata": {
    "application/vnd.databricks.v1+cell": {
     "cellMetadata": {},
     "inputWidgets": {},
     "nuid": "585dfcd4-7d77-4e7e-b1d9-ced8cdc42690",
     "showTitle": false,
     "tableResultSettingsMap": {},
     "title": ""
    }
   },
   "source": [
    "## Step 4\n",
    "* Create an `unwrap_key()` function that can be used to return a decrypted DEK \n",
    "* This function is a [Unity Catalog batch python user-defined function (UDF)](https://docs.databricks.com/aws/en/udf/python-batch-udf) that uses a [Unity Catalog service credential to connect to external cloud services](https://docs.databricks.com/aws/en/connect/unity-catalog/cloud-services/use-service-credentials) (in this instance AWS secrets manager)\n",
    "* Only privileged crypto administrators should have permissions to access this function, and the UC service credential it uses to connect to AWS\n",
    "\n",
    "> ### IMPORTANT: \n",
    "Please update the `CREDENTIALS()` section below with your `uc_service_credential`"
   ]
  },
  {
   "cell_type": "code",
   "execution_count": 0,
   "metadata": {
    "application/vnd.databricks.v1+cell": {
     "cellMetadata": {
      "byteLimit": 2048000,
      "implicitDf": true,
      "rowLimit": 10000
     },
     "inputWidgets": {},
     "nuid": "7c997f7f-5e48-4479-90fb-698691ad983a",
     "showTitle": false,
     "tableResultSettingsMap": {},
     "title": ""
    }
   },
   "outputs": [],
   "source": [
    "%sql\n",
    "CREATE SCHEMA IF NOT EXISTS crypto;\n",
    "USE SCHEMA crypto;\n",
    "-- IMPORTANT!!! \n",
    "---> BEFORE RUNNING THIS STEP PLEASE UPDATE THE CREDENTIALS() SECTION TO REFERENCE YOUR uc_service_credential\n",
    "CREATE OR REPLACE FUNCTION crypto.unwrap_key(secret_name STRING, key_name STRING) \n",
    "RETURNS STRING\n",
    "LANGUAGE PYTHON\n",
    "PARAMETER STYLE PANDAS\n",
    "HANDLER 'batchhandler'\n",
    "CREDENTIALS (\n",
    "  `production-aws-secrets-manager` DEFAULT -- IMPORTANT! REPLACE THIS WITH YOUR UC SERVICE CREDENTIAL!!!\n",
    "  -- service credential should align with the catalog!\n",
    ")\n",
    "ENVIRONMENT (\n",
    "  dependencies = '[\"pycryptodome==3.22.0\"]',\n",
    "  environment_version = 'None'\n",
    ")\n",
    "AS $$\n",
    "import boto3\n",
    "from pyspark.taskcontext import TaskContext\n",
    "from botocore.exceptions import ClientError\n",
    "from Crypto.Cipher import AES\n",
    "from Crypto.Protocol.KDF import scrypt\n",
    "import base64\n",
    "from typing import Iterator, Tuple\n",
    "import json\n",
    "import pandas as pd\n",
    "\n",
    "def setup_session():\n",
    "\n",
    "  session = boto3.Session()\n",
    "  region = TaskContext.get().getLocalProperty(\"spark.databricks.clusterUsageTags.region\")\n",
    "  client = session.client(\"secretsmanager\", region_name=region)\n",
    "  return client\n",
    "\n",
    "def decrypt_with_kek(kek_password, kek_salt, dek, nonce, tag):\n",
    "\n",
    "  salt = base64.b64decode(kek_salt)\n",
    "  kek = scrypt(kek_password, salt, key_len=32, N=2**17, r=8, p=1)\n",
    "  cipher = AES.new(kek, AES.MODE_GCM, nonce=base64.b64decode(nonce))\n",
    "  decrypted = cipher.decrypt(base64.b64decode(dek))\n",
    "  try:\n",
    "    cipher.verify(base64.b64decode(tag))\n",
    "  except ValueError as e:\n",
    "    raise e\n",
    "  return decrypted.decode('utf-8')\n",
    "\n",
    "client = setup_session()\n",
    "\n",
    "def batchhandler(batch_iter: Iterator[Tuple[pd.Series, pd.Series]]) -> Iterator[pd.DataFrame]:\n",
    "\n",
    "  for s, d in batch_iter:\n",
    "\n",
    "    key_name = d[0]\n",
    "    try:\n",
    "      response = client.get_secret_value(SecretId=s[0])\n",
    "      secret = json.loads(response.get(\"SecretString\"))\n",
    "    except ClientError as e:\n",
    "      raise e\n",
    "    \n",
    "    secret[\"dek\"] = decrypt_with_kek(\n",
    "      kek_password=secret.get(\"kek_password\"), \n",
    "      kek_salt=secret.get(\"kek_salt\"), \n",
    "      dek=secret.get(f\"{key_name}_dek\"), \n",
    "      nonce=secret.get(f\"{key_name}_nonce\"),\n",
    "      tag=secret.get(f\"{key_name}_tag\"))\n",
    "    yield pd.Series(secret.get(\"dek\"))\n",
    "$$;"
   ]
  },
  {
   "cell_type": "markdown",
   "metadata": {
    "application/vnd.databricks.v1+cell": {
     "cellMetadata": {},
     "inputWidgets": {},
     "nuid": "35037dc6-b33c-409e-af60-51b52a635469",
     "showTitle": false,
     "tableResultSettingsMap": {},
     "title": ""
    }
   },
   "source": [
    "## Step 5\n",
    "* Create `encrypt()` and `decrypt` functions that can be used to encrypt/decrypt data within our catalog. \n",
    "* These function will call our more privileged `unwrap_key` function in order to unwrap DEKs and encrypt or decrypt the data"
   ]
  },
  {
   "cell_type": "code",
   "execution_count": 0,
   "metadata": {
    "application/vnd.databricks.v1+cell": {
     "cellMetadata": {
      "byteLimit": 2048000,
      "rowLimit": 10000
     },
     "inputWidgets": {},
     "nuid": "239ed13e-6efe-4da9-9852-0f745b8b29e7",
     "showTitle": false,
     "tableResultSettingsMap": {},
     "title": ""
    }
   },
   "outputs": [],
   "source": [
    "sql(f\"\"\"\n",
    "    CREATE OR REPLACE FUNCTION crypto.encrypt(col STRING, schema STRING) \n",
    "    RETURNS STRING\n",
    "    RETURN base64(aes_encrypt(\n",
    "            col, \n",
    "            (SELECT * FROM (SELECT crypto.unwrap_key(\"unity_catalog/{metastore_id}/{catalog}\", schema))),\n",
    "            'GCM',  \n",
    "            'DEFAULT'\n",
    "        ))\n",
    "    \"\"\")"
   ]
  },
  {
   "cell_type": "code",
   "execution_count": 0,
   "metadata": {
    "application/vnd.databricks.v1+cell": {
     "cellMetadata": {
      "byteLimit": 2048000,
      "rowLimit": 10000
     },
     "inputWidgets": {},
     "nuid": "e29c360b-bebd-4699-a22c-4eecb7457f39",
     "showTitle": false,
     "tableResultSettingsMap": {},
     "title": ""
    }
   },
   "outputs": [],
   "source": [
    "sql(f\"\"\"\n",
    "    CREATE OR REPLACE FUNCTION crypto.decrypt(col STRING, schema STRING) \n",
    "    RETURNS STRING\n",
    "    RETURN \n",
    "        CASE WHEN is_account_group_member(CONCAT('{catalog}.', schema, '.crypto.user')) THEN \n",
    "        nvl(CAST(try_aes_decrypt(unbase64(col), \n",
    "        (SELECT * FROM (SELECT crypto.unwrap_key(\"unity_catalog/{metastore_id}/{catalog}\", schema))),\n",
    "        'GCM',  \n",
    "        'DEFAULT') AS STRING), \n",
    "        col)\n",
    "        ELSE col END\n",
    "    \"\"\")"
   ]
  },
  {
   "cell_type": "markdown",
   "metadata": {
    "application/vnd.databricks.v1+cell": {
     "cellMetadata": {},
     "inputWidgets": {},
     "nuid": "414c1a00-38a4-4052-9448-9f356d792495",
     "showTitle": false,
     "tableResultSettingsMap": {},
     "title": ""
    }
   },
   "source": [
    "## Step 6\n",
    "* Create a table from the raw data we downloaded above, encrypting the columns that contain sensitive data"
   ]
  },
  {
   "cell_type": "code",
   "execution_count": 0,
   "metadata": {
    "application/vnd.databricks.v1+cell": {
     "cellMetadata": {
      "byteLimit": 2048000,
      "implicitDf": true,
      "rowLimit": 10000
     },
     "inputWidgets": {},
     "nuid": "813c0d43-3bbf-4875-b99d-9b1867a90f42",
     "showTitle": false,
     "tableResultSettingsMap": {},
     "title": ""
    }
   },
   "outputs": [],
   "source": [
    "%sql\n",
    "USE SCHEMA IDENTIFIER(:schema);\n",
    "CREATE OR REPLACE TABLE IDENTIFIER(:schema || '.titanic') AS (\n",
    "SELECT \n",
    "PassengerId,\n",
    "crypto.encrypt(Name, :schema) AS Name,\n",
    "crypto.encrypt(Age, :schema) AS Age,\n",
    "crypto.encrypt(Sex, :schema) AS Sex,\n",
    "* EXCEPT(PassengerId, Name, Age, Sex)\n",
    "FROM read_files(\n",
    "  concat('/Volumes/', :catalog, '/', :schema, '/raw_files/titanic.csv'),\n",
    "  format => 'csv',\n",
    "  header => true,\n",
    "  mode => 'FAILFAST')\n",
    ");\n",
    "SELECT * FROM IDENTIFIER(:catalog || '.' || :schema || '.titanic');"
   ]
  },
  {
   "cell_type": "markdown",
   "metadata": {
    "application/vnd.databricks.v1+cell": {
     "cellMetadata": {},
     "inputWidgets": {},
     "nuid": "82346954-3daf-4ff7-8f7e-1d23cca274a5",
     "showTitle": false,
     "tableResultSettingsMap": {},
     "title": ""
    }
   },
   "source": [
    "## Step 7\n",
    "* Check that the decrypt functions work as expected..."
   ]
  },
  {
   "cell_type": "code",
   "execution_count": 0,
   "metadata": {
    "application/vnd.databricks.v1+cell": {
     "cellMetadata": {
      "byteLimit": 2048000,
      "implicitDf": true,
      "rowLimit": 10000
     },
     "inputWidgets": {},
     "nuid": "969d2e99-d7e3-45df-9eeb-b1906ba24e9c",
     "showTitle": false,
     "tableResultSettingsMap": {},
     "title": ""
    }
   },
   "outputs": [],
   "source": [
    "%sql\n",
    "SELECT\n",
    "PassengerId, \n",
    "crypto.decrypt(Name, :schema) AS Name,\n",
    "crypto.decrypt(Age, :schema) AS Age,\n",
    "crypto.decrypt(Sex, :schema) AS Sex,\n",
    "* EXCEPT(PassengerId, Name, Age, Sex)\n",
    "FROM IDENTIFIER(:catalog || '.' || :schema || '.titanic');"
   ]
  },
  {
   "cell_type": "markdown",
   "metadata": {
    "application/vnd.databricks.v1+cell": {
     "cellMetadata": {},
     "inputWidgets": {},
     "nuid": "dba5f65d-c6ae-4cbd-bf63-539af5c958de",
     "showTitle": false,
     "tableResultSettingsMap": {},
     "title": ""
    }
   },
   "source": [
    "## Step 8 \n",
    "* You can also add a column mask to the encrypted table\n",
    "* A column mask serves the following purposes:\n",
    "  * The calling users don't even need permissions to the `encrypt()` and `decrypt` functions or the `crypto` schema\n",
    "  * The whole process of encryption/decryption is abstracted away from them\n",
    "\n",
    "> ### NOTE: \n",
    "Adding a column mask is likely to cause calling the `decrypt()` function directly to fail, since the column mask will try to decrypt the data automatically and you'll be trying to decrypt the already decrypted results!\n",
    "\n",
    "> ### IMPORTANT: \n",
    "Please update the `USING COLUMNS('customers')` section below with your `schema` name"
   ]
  },
  {
   "cell_type": "code",
   "execution_count": 0,
   "metadata": {
    "application/vnd.databricks.v1+cell": {
     "cellMetadata": {
      "byteLimit": 2048000,
      "implicitDf": true,
      "rowLimit": 10000
     },
     "inputWidgets": {},
     "nuid": "d938106a-12ef-47f1-877d-b4bccfbbbfed",
     "showTitle": false,
     "tableResultSettingsMap": {},
     "title": ""
    }
   },
   "outputs": [],
   "source": [
    "%sql\n",
    "-- IMPORTANT!!! \n",
    "---> BEFORE RUNNING THIS STEP PLEASE UPDATE THE USING COLUMNS() SECTION TO REFERENCE YOUR UC SCHEMA NAME\n",
    "ALTER TABLE IDENTIFIER(:catalog || '.' || :schema || '.titanic') ALTER COLUMN Name SET MASK crypto.decrypt USING COLUMNS('human_resources');\n",
    "ALTER TABLE IDENTIFIER(:catalog || '.' || :schema || '.titanic') ALTER COLUMN Age SET MASK crypto.decrypt USING COLUMNS ('human_resources');\n",
    "ALTER TABLE IDENTIFIER(:catalog || '.' || :schema || '.titanic') ALTER COLUMN Sex SET MASK crypto.decrypt USING COLUMNS ('human_resources');"
   ]
  },
  {
   "cell_type": "code",
   "execution_count": 0,
   "metadata": {
    "application/vnd.databricks.v1+cell": {
     "cellMetadata": {
      "byteLimit": 2048000,
      "implicitDf": true,
      "rowLimit": 10000
     },
     "inputWidgets": {},
     "nuid": "363c743b-39b2-4233-b084-dc6feed5e7d5",
     "showTitle": false,
     "tableResultSettingsMap": {},
     "title": ""
    }
   },
   "outputs": [],
   "source": [
    "%sql\n",
    "SELECT \n",
    "*\n",
    "FROM IDENTIFIER(:catalog || '.' || :schema || '.titanic');"
   ]
  }
 ],
 "metadata": {
  "application/vnd.databricks.v1+notebook": {
   "computePreferences": null,
   "dashboards": [],
   "environmentMetadata": {
    "base_environment": "",
    "environment_version": "2"
   },
   "inputWidgetPreferences": null,
   "language": "python",
   "notebookMetadata": {
    "mostRecentlyExecutedCommandWithImplicitDF": {
     "commandId": 5962020627517328,
     "dataframes": [
      "_sqldf"
     ]
    },
    "pythonIndentUnit": 4
   },
   "notebookName": "01_setup",
   "widgets": {
    "aws_secret_creation": {
     "currentValue": "True",
     "nuid": "fdb05e7e-049a-4e19-ba9c-ea237985568f",
     "typedWidgetInfo": {
      "autoCreated": false,
      "defaultValue": "True",
      "label": null,
      "name": "aws_secret_creation",
      "options": {
       "widgetDisplayType": "Dropdown",
       "choices": [
        "True",
        "False"
       ],
       "fixedDomain": true,
       "multiselect": false
      },
      "parameterDataType": "String"
     },
     "widgetInfo": {
      "widgetType": "dropdown",
      "defaultValue": "True",
      "label": null,
      "name": "aws_secret_creation",
      "options": {
       "widgetType": "dropdown",
       "autoCreated": null,
       "choices": [
        "True",
        "False"
       ]
      }
     }
    },
    "catalog": {
     "currentValue": "production",
     "nuid": "f1101849-5562-49b3-b73f-9fde195c913c",
     "typedWidgetInfo": {
      "autoCreated": false,
      "defaultValue": "production",
      "label": null,
      "name": "catalog",
      "options": {
       "widgetDisplayType": "Text",
       "validationRegex": null
      },
      "parameterDataType": "String"
     },
     "widgetInfo": {
      "widgetType": "text",
      "defaultValue": "production",
      "label": null,
      "name": "catalog",
      "options": {
       "widgetType": "text",
       "autoCreated": null,
       "validationRegex": null
      }
     }
    },
    "region": {
     "currentValue": "eu-west-1",
     "nuid": "f42328f8-20fa-446c-a451-1023aed0ff54",
     "typedWidgetInfo": {
      "autoCreated": false,
      "defaultValue": "eu-west-1",
      "label": null,
      "name": "region",
      "options": {
       "widgetDisplayType": "Text",
       "validationRegex": null
      },
      "parameterDataType": "String"
     },
     "widgetInfo": {
      "widgetType": "text",
      "defaultValue": "eu-west-1",
      "label": null,
      "name": "region",
      "options": {
       "widgetType": "text",
       "autoCreated": null,
       "validationRegex": null
      }
     }
    },
    "schema": {
     "currentValue": "human_resources",
     "nuid": "f7b59d82-e3f2-4e1d-8b45-0bb8c0086d04",
     "typedWidgetInfo": {
      "autoCreated": false,
      "defaultValue": "human_resources",
      "label": null,
      "name": "schema",
      "options": {
       "widgetDisplayType": "Text",
       "validationRegex": null
      },
      "parameterDataType": "String"
     },
     "widgetInfo": {
      "widgetType": "text",
      "defaultValue": "human_resources",
      "label": null,
      "name": "schema",
      "options": {
       "widgetType": "text",
       "autoCreated": null,
       "validationRegex": null
      }
     }
    },
    "uc_service_credential": {
     "currentValue": "production-aws-secrets-manager",
     "nuid": "972a02ed-a6c4-4ef3-8fdf-4e847e7d63f6",
     "typedWidgetInfo": {
      "autoCreated": false,
      "defaultValue": "production-aws-secrets-manager",
      "label": null,
      "name": "uc_service_credential",
      "options": {
       "widgetDisplayType": "Text",
       "validationRegex": null
      },
      "parameterDataType": "String"
     },
     "widgetInfo": {
      "widgetType": "text",
      "defaultValue": "production-aws-secrets-manager",
      "label": null,
      "name": "uc_service_credential",
      "options": {
       "widgetType": "text",
       "autoCreated": null,
       "validationRegex": null
      }
     }
    }
   }
  },
  "language_info": {
   "name": "python"
  }
 },
 "nbformat": 4,
 "nbformat_minor": 0
}
