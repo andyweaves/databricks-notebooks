{
 "cells": [
  {
   "cell_type": "code",
   "execution_count": 0,
   "metadata": {
    "application/vnd.databricks.v1+cell": {
     "cellMetadata": {
      "byteLimit": 2048000,
      "rowLimit": 10000
     },
     "inputWidgets": {},
     "nuid": "beade335-2f82-466f-a216-07609e53f347",
     "showTitle": false,
     "tableResultSettingsMap": {},
     "title": ""
    }
   },
   "outputs": [],
   "source": [
    "%python\n",
    "from databricks.sdk import WorkspaceClient\n",
    "\n",
    "ws = WorkspaceClient()\n",
    "\n",
    "catalogs = [x.full_name for x in list(ws.catalogs.list())]\n",
    "dbutils.widgets.dropdown(\"catalog\", defaultValue=catalogs[0], choices=catalogs)\n",
    "dbutils.widgets.text(\"schema\", defaultValue=\"system\")"
   ]
  },
  {
   "cell_type": "code",
   "execution_count": 0,
   "metadata": {
    "application/vnd.databricks.v1+cell": {
     "cellMetadata": {
      "byteLimit": 2048000,
      "implicitDf": true,
      "rowLimit": 10000
     },
     "inputWidgets": {},
     "nuid": "d34c60e9-e1e0-4333-8012-7a81293ae234",
     "showTitle": false,
     "tableResultSettingsMap": {},
     "title": ""
    }
   },
   "outputs": [],
   "source": [
    "CREATE SCHEMA IF NOT EXISTS IDENTIFIER(CONCAT(:catalog, '.', :schema))"
   ]
  },
  {
   "cell_type": "markdown",
   "metadata": {
    "application/vnd.databricks.v1+cell": {
     "cellMetadata": {
      "byteLimit": 2048000,
      "rowLimit": 10000
     },
     "inputWidgets": {},
     "nuid": "dc3fa394-9404-4102-8d3b-72fab9783cd4",
     "showTitle": false,
     "tableResultSettingsMap": {},
     "title": ""
    }
   },
   "source": [
    "## Create the column mask functions"
   ]
  },
  {
   "cell_type": "code",
   "execution_count": 0,
   "metadata": {
    "application/vnd.databricks.v1+cell": {
     "cellMetadata": {
      "byteLimit": 2048000,
      "rowLimit": 10000
     },
     "inputWidgets": {},
     "nuid": "1fd9e42c-a762-4779-be74-b71f78e99a34",
     "showTitle": false,
     "tableResultSettingsMap": {},
     "title": ""
    }
   },
   "outputs": [],
   "source": [
    "CREATE OR REPLACE FUNCTION IDENTIFIER(:catalog || '.' || :schema || '.redact_string')(col STRING) \n",
    "RETURNS STRING \n",
    "RETURN '[REDACTED]'"
   ]
  },
  {
   "cell_type": "code",
   "execution_count": 0,
   "metadata": {
    "application/vnd.databricks.v1+cell": {
     "cellMetadata": {
      "byteLimit": 2048000,
      "rowLimit": 10000
     },
     "inputWidgets": {},
     "nuid": "6d0266e7-7b6e-4bc2-a3b3-0750d850bc40",
     "showTitle": false,
     "tableResultSettingsMap": {},
     "title": ""
    }
   },
   "outputs": [],
   "source": [
    "CREATE OR REPLACE FUNCTION IDENTIFIER(:catalog || '.' || :schema || '.redact_name')(col STRING) \n",
    "RETURNS STRING \n",
    "RETURN '[REDACTED_NAME]'"
   ]
  },
  {
   "cell_type": "code",
   "execution_count": 0,
   "metadata": {
    "application/vnd.databricks.v1+cell": {
     "cellMetadata": {
      "byteLimit": 2048000,
      "rowLimit": 10000
     },
     "inputWidgets": {},
     "nuid": "177408b7-ab37-4465-9e3d-cdae27c51ed2",
     "showTitle": false,
     "tableResultSettingsMap": {},
     "title": ""
    }
   },
   "outputs": [],
   "source": [
    "CREATE OR REPLACE FUNCTION IDENTIFIER(:catalog || '.' || :schema || '.redact_email')(col STRING) \n",
    "RETURNS STRING \n",
    "RETURN regexp_replace(CAST(col AS STRING), '[\\\\w\\\\.=-]+@', '')"
   ]
  },
  {
   "cell_type": "code",
   "execution_count": 0,
   "metadata": {
    "application/vnd.databricks.v1+cell": {
     "cellMetadata": {
      "byteLimit": 2048000,
      "rowLimit": 10000
     },
     "inputWidgets": {},
     "nuid": "ff107237-2142-4b9a-ad5e-319a1ff2d642",
     "showTitle": false,
     "tableResultSettingsMap": {},
     "title": ""
    }
   },
   "outputs": [],
   "source": [
    "CREATE OR REPLACE FUNCTION IDENTIFIER(:catalog || '.' || :schema || '.redact_ip_address')(col STRING) \n",
    "RETURNS STRING \n",
    "RETURN \n",
    "CASE \n",
    "    WHEN col RLIKE '^([0-9]{1,3}\\\\.){3}[0-9]{1,3}$' THEN concat(substring_index(CAST(col AS STRING), '.', 3), '.0/24')\n",
    "    WHEN col RLIKE '^([0-9a-fA-F]{1,4}:){7}[0-9a-fA-F]{1,4}$' THEN regexp_replace(col, '([^:]*):([^:]*)$', 'XXXX:XXXX')\n",
    "    ELSE '[REDACTED_IP_ADDRESS]'\n",
    "END"
   ]
  },
  {
   "cell_type": "code",
   "execution_count": 0,
   "metadata": {
    "application/vnd.databricks.v1+cell": {
     "cellMetadata": {
      "byteLimit": 2048000,
      "rowLimit": 10000
     },
     "inputWidgets": {},
     "nuid": "f07f9061-2e23-494e-82e2-9dac8fa4326e",
     "showTitle": false,
     "tableResultSettingsMap": {},
     "title": ""
    }
   },
   "outputs": [],
   "source": [
    "CREATE OR REPLACE FUNCTION IDENTIFIER(:catalog || '.' || :schema || '.redact_substring')(col STRING) \n",
    "RETURNS STRING \n",
    "RETURN concat(substr(col, 0, 2), mask(substr(col, 2, length(col) - 2), upperChar=>'X', lowerChar=>'X', digitChar =>'X'), substr(col, -2, 2)) "
   ]
  },
  {
   "cell_type": "code",
   "execution_count": 0,
   "metadata": {
    "application/vnd.databricks.v1+cell": {
     "cellMetadata": {
      "byteLimit": 2048000,
      "rowLimit": 10000
     },
     "inputWidgets": {},
     "nuid": "c608767f-5631-4911-bcad-36693383ed23",
     "showTitle": false,
     "tableResultSettingsMap": {},
     "title": ""
    }
   },
   "outputs": [],
   "source": [
    "CREATE OR REPLACE FUNCTION IDENTIFIER(:catalog || '.' || :schema || '.redact_endstring')(col STRING) \n",
    "RETURNS STRING \n",
    "RETURN concat(mask(substr(col, 0, length(col) - 3),  upperChar=>'X', lowerChar=>'X', digitChar =>'X'), substr(col, -3, 3))"
   ]
  },
  {
   "cell_type": "code",
   "execution_count": 0,
   "metadata": {
    "application/vnd.databricks.v1+cell": {
     "cellMetadata": {
      "byteLimit": 2048000,
      "rowLimit": 10000
     },
     "inputWidgets": {},
     "nuid": "e6dd0d81-f4d2-4c52-af13-6d59798d45e3",
     "showTitle": false,
     "tableResultSettingsMap": {},
     "title": ""
    }
   },
   "outputs": [],
   "source": [
    "CREATE OR REPLACE FUNCTION IDENTIFIER(:catalog || '.' || :schema || '.redact_digits')(col STRING) \n",
    "RETURNS STRING \n",
    "RETURN mask(col, digitChar =>'*')"
   ]
  },
  {
   "cell_type": "code",
   "execution_count": 0,
   "metadata": {
    "application/vnd.databricks.v1+cell": {
     "cellMetadata": {
      "byteLimit": 2048000,
      "rowLimit": 10000
     },
     "inputWidgets": {},
     "nuid": "a5ba023c-97bc-4cc1-9b3d-49f0803ae864",
     "showTitle": false,
     "tableResultSettingsMap": {},
     "title": ""
    }
   },
   "outputs": [],
   "source": [
    "CREATE OR REPLACE FUNCTION IDENTIFIER(:catalog || '.' || :schema || '.mask_string')(col STRING) \n",
    "RETURNS STRING \n",
    "RETURN mask(col)"
   ]
  },
  {
   "cell_type": "markdown",
   "metadata": {
    "application/vnd.databricks.v1+cell": {
     "cellMetadata": {
      "byteLimit": 2048000,
      "rowLimit": 10000
     },
     "inputWidgets": {},
     "nuid": "d4c942f9-9d3b-4e51-bd43-717599b2dacd",
     "showTitle": false,
     "tableResultSettingsMap": {},
     "title": ""
    }
   },
   "source": [
    "## Create the ABAC policies"
   ]
  },
  {
   "cell_type": "code",
   "execution_count": 0,
   "metadata": {
    "application/vnd.databricks.v1+cell": {
     "cellMetadata": {
      "byteLimit": 2048000,
      "rowLimit": 10000
     },
     "inputWidgets": {},
     "nuid": "d4d43266-0b96-4e68-883b-328123f5da7b",
     "showTitle": false,
     "tableResultSettingsMap": {},
     "title": ""
    }
   },
   "outputs": [],
   "source": [
    "%python\n",
    "catalog = dbutils.widgets.get('catalog')\n",
    "schema = dbutils.widgets.get('schema')\n",
    "pii_viewer = f\"{catalog}.pii_viewer\"\n",
    "\n",
    "group = next((g for g in ws.groups.list() if g.display_name == pii_viewer), None)\n",
    "if group is None:\n",
    "    raise Exception(f\"{pii_viewer} group does not exist. Please create it as an account level group before running the steps below!\")"
   ]
  },
  {
   "cell_type": "code",
   "execution_count": 0,
   "metadata": {
    "application/vnd.databricks.v1+cell": {
     "cellMetadata": {
      "byteLimit": 2048000,
      "rowLimit": 10000
     },
     "inputWidgets": {},
     "nuid": "c8dd0c5b-a016-4468-a02b-7e652ef3a4c7",
     "showTitle": false,
     "tableResultSettingsMap": {},
     "title": ""
    }
   },
   "outputs": [],
   "source": [
    "%python\n",
    "sql(f\"\"\"\n",
    "    CREATE POLICY redact_name\n",
    "    ON CATALOG `{catalog}`\n",
    "    COMMENT 'Redact names by replacing the PII with [REDACTED_NAME]'\n",
    "    COLUMN MASK {catalog}.{schema}.redact_name\n",
    "    TO `account users`\n",
    "    EXCEPT `{pii_viewer}`\n",
    "    FOR TABLES\n",
    "    MATCH COLUMNS\n",
    "        hasTag('class.name') AS name\n",
    "    ON COLUMN name;\n",
    "    \"\"\")"
   ]
  },
  {
   "cell_type": "code",
   "execution_count": 0,
   "metadata": {
    "application/vnd.databricks.v1+cell": {
     "cellMetadata": {
      "byteLimit": 2048000,
      "rowLimit": 10000
     },
     "inputWidgets": {},
     "nuid": "9f25e760-8285-41c2-b069-1aacbd5d41f3",
     "showTitle": false,
     "tableResultSettingsMap": {},
     "title": ""
    }
   },
   "outputs": [],
   "source": [
    "%python\n",
    "sql(f\"\"\"\n",
    "    CREATE POLICY redact_email\n",
    "    ON CATALOG `{catalog}`\n",
    "    COMMENT 'Redact email addresses so that only the domain is visible'\n",
    "    COLUMN MASK {catalog}.{schema}.redact_email\n",
    "    TO `account users`\n",
    "    EXCEPT `{pii_viewer}`\n",
    "    FOR TABLES\n",
    "    MATCH COLUMNS\n",
    "        hasTag('class.email_address') AS email\n",
    "    ON COLUMN email;\n",
    "    \"\"\")"
   ]
  },
  {
   "cell_type": "code",
   "execution_count": 0,
   "metadata": {
    "application/vnd.databricks.v1+cell": {
     "cellMetadata": {
      "byteLimit": 2048000,
      "rowLimit": 10000
     },
     "inputWidgets": {},
     "nuid": "d0055223-914c-43c1-b742-d1b7c345c2ca",
     "showTitle": false,
     "tableResultSettingsMap": {},
     "title": ""
    }
   },
   "outputs": [],
   "source": [
    "%python\n",
    "sql(f\"\"\"\n",
    "    CREATE POLICY redact_phone_number\n",
    "    ON CATALOG `{catalog}`\n",
    "    COMMENT 'Redact US phone numbers by replacing all digits with \"*\"'\n",
    "    COLUMN MASK {catalog}.{schema}.redact_digits\n",
    "    TO `account users`\n",
    "    EXCEPT `{pii_viewer}`\n",
    "    FOR TABLES\n",
    "    MATCH COLUMNS\n",
    "        hasTag('class.phone_number') AS phone\n",
    "    ON COLUMN phone;\n",
    "    \"\"\")"
   ]
  },
  {
   "cell_type": "code",
   "execution_count": 0,
   "metadata": {
    "application/vnd.databricks.v1+cell": {
     "cellMetadata": {
      "byteLimit": 2048000,
      "rowLimit": 10000
     },
     "inputWidgets": {},
     "nuid": "5d7dc8be-b347-4136-9c32-7e6703bdad81",
     "showTitle": false,
     "tableResultSettingsMap": {},
     "title": ""
    }
   },
   "outputs": [],
   "source": [
    "%python\n",
    "sql(f\"\"\"\n",
    "    CREATE POLICY redact_ip_address\n",
    "    ON CATALOG `{catalog}`\n",
    "    COMMENT 'Redact IP v4 and v6 addresses via truncation of the last few octets'\n",
    "    COLUMN MASK {catalog}.{schema}.redact_ip_address\n",
    "    TO `account users`\n",
    "    EXCEPT `{pii_viewer}`\n",
    "    FOR TABLES\n",
    "    MATCH COLUMNS\n",
    "        hasTag('class.ip_address') AS ip\n",
    "    ON COLUMN ip;\n",
    "    \"\"\")"
   ]
  },
  {
   "cell_type": "code",
   "execution_count": 0,
   "metadata": {
    "application/vnd.databricks.v1+cell": {
     "cellMetadata": {
      "byteLimit": 2048000,
      "rowLimit": 10000
     },
     "inputWidgets": {},
     "nuid": "cd70a907-c5c6-485a-b807-ac73a893594e",
     "showTitle": false,
     "tableResultSettingsMap": {},
     "title": ""
    }
   },
   "outputs": [],
   "source": [
    "%python\n",
    "sql(f\"\"\"\n",
    "    CREATE POLICY redact_location\n",
    "    ON CATALOG `{catalog}`\n",
    "    COMMENT 'Redact addresses and other locations by masking upper, lower and numeric characters'\n",
    "    COLUMN MASK {catalog}.{schema}.mask_string\n",
    "    TO `account users`\n",
    "    EXCEPT `{pii_viewer}`\n",
    "    FOR TABLES\n",
    "    MATCH COLUMNS\n",
    "        hasTag('class.location') AS location\n",
    "    ON COLUMN location;\n",
    "    \"\"\")"
   ]
  },
  {
   "cell_type": "code",
   "execution_count": 0,
   "metadata": {
    "application/vnd.databricks.v1+cell": {
     "cellMetadata": {
      "byteLimit": 2048000,
      "rowLimit": 10000
     },
     "inputWidgets": {},
     "nuid": "1dc650b5-5dd1-41c6-a219-30638f782972",
     "showTitle": false,
     "tableResultSettingsMap": {},
     "title": ""
    }
   },
   "outputs": [],
   "source": [
    "%python\n",
    "sql(f\"\"\"\n",
    "    CREATE POLICY redact_bank_number\n",
    "    ON CATALOG `{catalog}`\n",
    "    COMMENT 'Redact US bank numbers by masking the substring whilst retaining the first and last 2 characters'\n",
    "    COLUMN MASK {catalog}.{schema}.redact_substring\n",
    "    TO `account users`\n",
    "    EXCEPT `{pii_viewer}`\n",
    "    FOR TABLES\n",
    "    MATCH COLUMNS\n",
    "        hasTag('class.us_bank_number') AS bank_number\n",
    "    ON COLUMN bank_number;\n",
    "    \"\"\")"
   ]
  },
  {
   "cell_type": "code",
   "execution_count": 0,
   "metadata": {
    "application/vnd.databricks.v1+cell": {
     "cellMetadata": {
      "byteLimit": 2048000,
      "rowLimit": 10000
     },
     "inputWidgets": {},
     "nuid": "144cb9a9-e943-454e-81cc-38fbf9e2e208",
     "showTitle": false,
     "tableResultSettingsMap": {},
     "title": ""
    }
   },
   "outputs": [],
   "source": [
    "%python\n",
    "sql(f\"\"\"\n",
    "    CREATE POLICY redact_ssn\n",
    "    ON CATALOG `{catalog}`\n",
    "    COMMENT 'Redact US SSNs by replacing all digits with \"*\"'\n",
    "    COLUMN MASK {catalog}.{schema}.redact_digits\n",
    "    TO `account users`\n",
    "    EXCEPT `{pii_viewer}`\n",
    "    FOR TABLES\n",
    "    MATCH COLUMNS\n",
    "        hasTag('class.us_ssn') AS ssn\n",
    "    ON COLUMN ssn;\n",
    "    \"\"\")"
   ]
  },
  {
   "cell_type": "code",
   "execution_count": 0,
   "metadata": {
    "application/vnd.databricks.v1+cell": {
     "cellMetadata": {
      "byteLimit": 2048000,
      "rowLimit": 10000
     },
     "inputWidgets": {},
     "nuid": "2affcffe-eeed-4090-b544-f175a6c48e49",
     "showTitle": false,
     "tableResultSettingsMap": {},
     "title": ""
    }
   },
   "outputs": [],
   "source": [
    "%python\n",
    "sql(f\"\"\"\n",
    "    CREATE POLICY redact_itin\n",
    "    ON CATALOG `{catalog}`\n",
    "    COMMENT 'Redact US ITINs by replacing all digits with \"*\"'\n",
    "    COLUMN MASK {catalog}.{schema}.redact_digits\n",
    "    TO `account users`\n",
    "    EXCEPT `{pii_viewer}`\n",
    "    FOR TABLES\n",
    "    MATCH COLUMNS\n",
    "        hasTag('class.us_itin') AS ssn\n",
    "    ON COLUMN ssn;\n",
    "    \"\"\")"
   ]
  },
  {
   "cell_type": "code",
   "execution_count": 0,
   "metadata": {
    "application/vnd.databricks.v1+cell": {
     "cellMetadata": {
      "byteLimit": 2048000,
      "rowLimit": 10000
     },
     "inputWidgets": {},
     "nuid": "3506f0f7-22ad-420d-b4b2-2302e2ec6578",
     "showTitle": false,
     "tableResultSettingsMap": {},
     "title": ""
    }
   },
   "outputs": [],
   "source": [
    "%python\n",
    "sql(f\"\"\"\n",
    "    CREATE POLICY redact_iban\n",
    "    ON CATALOG `{catalog}`\n",
    "    COMMENT 'Redact IBAN codes by masking the substring whilst retaining the first and last 2 characters'\n",
    "    COLUMN MASK {catalog}.{schema}.redact_substring\n",
    "    TO `account users`\n",
    "    EXCEPT `{pii_viewer}`\n",
    "    FOR TABLES\n",
    "    MATCH COLUMNS\n",
    "        hasTag('class.iban_code') AS iban\n",
    "    ON COLUMN iban;\n",
    "    \"\"\")"
   ]
  },
  {
   "cell_type": "code",
   "execution_count": 0,
   "metadata": {
    "application/vnd.databricks.v1+cell": {
     "cellMetadata": {
      "byteLimit": 2048000,
      "rowLimit": 10000
     },
     "inputWidgets": {},
     "nuid": "a88b6ab4-65f9-491f-be86-f59696a1f7c5",
     "showTitle": false,
     "tableResultSettingsMap": {},
     "title": ""
    }
   },
   "outputs": [],
   "source": [
    "%python\n",
    "sql(f\"\"\"\n",
    "    CREATE POLICY redact_credit_card\n",
    "    ON CATALOG `{catalog}`\n",
    "    COMMENT 'Redact credit card numbers codes by masking the substring whilst retaining the last 3 characters. NB - this is used for example purposes, credit card numbers should be tokenised or otherwise appropriately protected!'\n",
    "    COLUMN MASK {catalog}.{schema}.redact_endstring\n",
    "    TO `account users`\n",
    "    EXCEPT `{pii_viewer}`\n",
    "    FOR TABLES\n",
    "    MATCH COLUMNS\n",
    "        hasTag('class.credit_card') AS cc\n",
    "    ON COLUMN cc;\n",
    "    \"\"\")"
   ]
  }
 ],
 "metadata": {
  "application/vnd.databricks.v1+notebook": {
   "computePreferences": {
    "hardware": {
     "accelerator": null,
     "gpuPoolId": null,
     "memory": null
    }
   },
   "dashboards": [],
   "environmentMetadata": {
    "base_environment": "",
    "environment_version": "3"
   },
   "inputWidgetPreferences": null,
   "language": "sql",
   "notebookMetadata": {
    "mostRecentlyExecutedCommandWithImplicitDF": {
     "commandId": 6424501397607483,
     "dataframes": [
      "_sqldf"
     ]
    },
    "pythonIndentUnit": 4
   },
   "notebookName": "create_abac_rules",
   "widgets": {
    "catalog": {
     "currentValue": "production",
     "nuid": "c9c8d88b-20ee-46a3-b6ae-1ed624f2e078",
     "typedWidgetInfo": {
      "autoCreated": false,
      "defaultValue": "aweaver",
      "label": null,
      "name": "catalog",
      "options": {
       "widgetDisplayType": "Dropdown",
       "choices": [
        "aweaver",
        "production",
        "samples",
        "system"
       ],
       "fixedDomain": true,
       "multiselect": false
      },
      "parameterDataType": "String"
     },
     "widgetInfo": {
      "widgetType": "dropdown",
      "defaultValue": "aweaver",
      "label": null,
      "name": "catalog",
      "options": {
       "widgetType": "dropdown",
       "autoCreated": null,
       "choices": [
        "aweaver",
        "production",
        "samples",
        "system"
       ]
      }
     }
    },
    "schema": {
     "currentValue": "system",
     "nuid": "97174fa6-22f2-4d84-9da7-c0762b314c92",
     "typedWidgetInfo": {
      "autoCreated": false,
      "defaultValue": "system",
      "label": null,
      "name": "schema",
      "options": {
       "widgetDisplayType": "Text",
       "validationRegex": null
      },
      "parameterDataType": "String"
     },
     "widgetInfo": {
      "widgetType": "text",
      "defaultValue": "system",
      "label": null,
      "name": "schema",
      "options": {
       "widgetType": "text",
       "autoCreated": null,
       "validationRegex": null
      }
     }
    }
   }
  },
  "language_info": {
   "name": "sql"
  }
 },
 "nbformat": 4,
 "nbformat_minor": 0
}
